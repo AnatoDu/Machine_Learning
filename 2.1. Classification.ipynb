{
 "cells": [
  {
   "cell_type": "markdown",
   "id": "e74acb6e",
   "metadata": {},
   "source": [
    "# Classification\n",
    "---\n",
    "Author: Anatoliy Durkin\n",
    "\n",
    "Updated: 28.02.2025"
   ]
  },
  {
   "cell_type": "markdown",
   "id": "5d3fd80e",
   "metadata": {},
   "source": [
    "В данном ноутбуке библиотеки будут импортироваться по мере необходимости, что продиктовано удобством для процесса обучения. Однако напоминаю, что лучше, если все импорты у вас находятся в одной ячейке!"
   ]
  },
  {
   "cell_type": "code",
   "execution_count": 1,
   "id": "ddac4b0f",
   "metadata": {},
   "outputs": [],
   "source": [
    "import pandas as pd"
   ]
  },
  {
   "cell_type": "markdown",
   "id": "3d736901",
   "metadata": {},
   "source": [
    "## Данные\n",
    "\n",
    "Набор данных по диагностике диабета.\n",
    "\n",
    "Этот набор данных содержит 9538 медицинских записей , связанных с диагностикой диабета и факторами риска. Он включает различные параметры здоровья, привычки образа жизни и генетические предрасположенности, которые способствуют риску диабета. Данные структурированы с реалистичными распределениями, что делает их ценными для медицинских исследований, статистического анализа и приложений машинного обучения.\n",
    "\n",
    "---\n",
    "Описание столбцов:\n",
    "\n",
    "- Age: The age of the individual (18-90 years).\n",
    "- Pregnancies: Number of times the patient has been pregnant.\n",
    "- BMI (Body Mass Index): A measure of body fat based on height and weight (kg/m²).\n",
    "- Glucose: Blood glucose concentration (mg/dL), a key diabetes indicator.\n",
    "- BloodPressure: Systolic blood pressure (mmHg), higher levels may indicate hypertension.\n",
    "- HbA1c: Hemoglobin A1c level (%), representing average blood sugar over months.\n",
    "- LDL (Low-Density Lipoprotein): \"Bad\" cholesterol level (mg/dL).\n",
    "- HDL (High-Density Lipoprotein): \"Good\" cholesterol level (mg/dL).\n",
    "- Triglycerides: Fat levels in the blood (mg/dL), high values increase diabetes risk.\n",
    "- WaistCircumference: Waist measurement (cm), an indicator of central obesity.\n",
    "- HipCircumference: Hip measurement (cm), used to calculate WHR.\n",
    "- WHR (Waist-to-Hip Ratio): Waist circumference divided by hip circumference.\n",
    "- FamilyHistory: Indicates if the individual has a family history of diabetes (1 = Yes, 0 = No).\n",
    "- DietType: Dietary habits (0 = Unbalanced, 1 = Balanced, 2 = Vegan/Vegetarian).\n",
    "- Hypertension: Presence of high blood pressure (1 = Yes, 0 = No).\n",
    "- MedicationUse: Indicates if the individual is taking medication (1 = Yes, 0 = No).\n",
    "- Outcome: Diabetes diagnosis result (1 = Diabetes, 0 = No Diabetes).\n",
    "\n",
    "---\n",
    "Этот набор данных полезен для изучения взаимосвязей между образом жизни, генетическими факторами и риском развития диабета, предоставляя ценную информацию для прогностического моделирования и аналитики здоровья."
   ]
  },
  {
   "cell_type": "code",
   "execution_count": 3,
   "id": "88f01694",
   "metadata": {},
   "outputs": [],
   "source": [
    "df = pd.read_csv('diabetes_dataset.csv')"
   ]
  },
  {
   "cell_type": "markdown",
   "id": "791aeebd",
   "metadata": {},
   "source": [
    "Ознакомьтесь с данными, проверьте их на наличие ошибок, пропусков и прочих вещей, которые могут осложнить дальнейшую работу. Ознакомьтесь с типами данных в таблице."
   ]
  },
  {
   "cell_type": "code",
   "execution_count": 76,
   "id": "7f06f0e9",
   "metadata": {},
   "outputs": [],
   "source": [
    "# Ваш код\n",
    "..."
   ]
  },
  {
   "cell_type": "markdown",
   "id": "0549b1f0",
   "metadata": {},
   "source": [
    "Необходимо ли выполнить какую-то предобработку? Сделайте всё, что считаете нужным, всё может сказаться в дальнейшем при построении моделей."
   ]
  },
  {
   "cell_type": "code",
   "execution_count": 77,
   "id": "daf6aec0",
   "metadata": {},
   "outputs": [],
   "source": [
    "# Ваш код\n",
    "..."
   ]
  },
  {
   "cell_type": "markdown",
   "id": "f2c206c9",
   "metadata": {},
   "source": [
    "## Выборка данных"
   ]
  },
  {
   "cell_type": "markdown",
   "id": "593ffc24",
   "metadata": {},
   "source": [
    "В разделении данных помогает замечательна функция `train_test_split` из библиотеки `scikit-learn`. Именно этой библиотекой мы в основном будем пользоваться в дальнейшем. Напоминаю, если у вас нет библиотеки, её легко установить через `pip` даже из ячейки ноутбука."
   ]
  },
  {
   "cell_type": "code",
   "execution_count": null,
   "id": "8508c7b5",
   "metadata": {},
   "outputs": [],
   "source": [
    "# Если нужно установить библиотеку:\n",
    "\n",
    "# !pip install scikit-learn"
   ]
  },
  {
   "cell_type": "code",
   "execution_count": 7,
   "id": "f272225b",
   "metadata": {},
   "outputs": [],
   "source": [
    "from sklearn.model_selection import train_test_split"
   ]
  },
  {
   "cell_type": "markdown",
   "id": "a86d49ff",
   "metadata": {},
   "source": [
    "Теперь можем использовать эту функцию для разделения данных. Функция принимает на вход два набора данных (пожаем один с признаками, другой с целевым признаком), аргумент `test_size` позволяет указать долю данных, которую нужно отделить в тестовый набор. Функция автоматически случаным образом разделит датасеты в указанном соотношении, при этом в тестовую часть попадут соответствующие строки из обоих наборов данных.\n",
    "\n",
    "Также указывается аргумент `random_state`, он не обязателен, но рекомендуется его указывать. Это фиксация сида для генерации рандомных чисел. Таким образом, указывая одно и то же число в этом аргументе, вы получите одно и то же разбиение на выборки. Этот аргумент позволяет сделать ваши манипуляции воспроизводимыми.\n",
    "\n",
    "Функция возвращает четыре датасета, по два для каждого из переданных, при этом в каждой паре сначала идет обучающая выборка, затем тестовая. Обратите внимание, как мы сохраняем резульатат. Здесь \"x\" - признаки, \"y\" - целевой признак."
   ]
  },
  {
   "cell_type": "code",
   "execution_count": 16,
   "id": "b9658f91",
   "metadata": {},
   "outputs": [],
   "source": [
    "x_train, x_test, y_train, y_test = train_test_split(df.drop(['Outcome'], axis=1), df['Outcome'], test_size=0.25, random_state=42)"
   ]
  },
  {
   "cell_type": "markdown",
   "id": "04886e32",
   "metadata": {},
   "source": [
    "Сравните размеры датасетов, убедитесь, что в тестовой выборке нужное нам количество данных. Сравните индексы датасетов с признаками и целевым признаком, чтобы убедиться, что они совпадают."
   ]
  },
  {
   "cell_type": "code",
   "execution_count": 80,
   "id": "7fb76032",
   "metadata": {},
   "outputs": [],
   "source": [
    "# Ваш код\n",
    "..."
   ]
  },
  {
   "cell_type": "markdown",
   "id": "e1699678",
   "metadata": {},
   "source": [
    "## kNN"
   ]
  },
  {
   "cell_type": "code",
   "execution_count": 19,
   "id": "ff3558de",
   "metadata": {},
   "outputs": [],
   "source": [
    "from sklearn.neighbors import KNeighborsClassifier"
   ]
  },
  {
   "cell_type": "code",
   "execution_count": 23,
   "id": "4325bedd",
   "metadata": {},
   "outputs": [],
   "source": [
    "knn = KNeighborsClassifier(n_neighbors=10)"
   ]
  },
  {
   "cell_type": "code",
   "execution_count": 24,
   "id": "8ccd9784",
   "metadata": {},
   "outputs": [],
   "source": [
    "knn_model = knn.fit(x_train, y_train)"
   ]
  },
  {
   "cell_type": "code",
   "execution_count": 26,
   "id": "883e8214",
   "metadata": {},
   "outputs": [
    {
     "name": "stderr",
     "output_type": "stream",
     "text": [
      "C:\\Users\\anato\\anaconda3\\lib\\site-packages\\sklearn\\base.py:464: UserWarning: X does not have valid feature names, but KNeighborsClassifier was fitted with feature names\n",
      "  warnings.warn(\n"
     ]
    },
    {
     "data": {
      "text/plain": [
       "array([0, 0, 0, ..., 0, 0, 0], dtype=int64)"
      ]
     },
     "execution_count": 26,
     "metadata": {},
     "output_type": "execute_result"
    }
   ],
   "source": [
    "knn_predictions = knn.predict(x_test.values)\n",
    "knn_predictions"
   ]
  },
  {
   "cell_type": "code",
   "execution_count": 27,
   "id": "72d23a9f",
   "metadata": {},
   "outputs": [],
   "source": [
    "from sklearn.metrics import accuracy_score"
   ]
  },
  {
   "cell_type": "code",
   "execution_count": 28,
   "id": "89f49a42",
   "metadata": {},
   "outputs": [
    {
     "name": "stdout",
     "output_type": "stream",
     "text": [
      "Accuracy: 0.6737945492662474\n"
     ]
    }
   ],
   "source": [
    "accuracy = accuracy_score(y_test, knn_predictions)\n",
    "print(f'Accuracy: {accuracy}')"
   ]
  },
  {
   "cell_type": "markdown",
   "id": "df83e108",
   "metadata": {},
   "source": [
    "Матрица ошибок\n",
    "\n",
    "---\n",
    "|           | Predicted: 0 | Predicted:1 |\n",
    "|-----------|:------------:|:-----------:|\n",
    "| Actual: 0 | TN           | FP          |\n",
    "| Actual: 1 | FN           | TP          |"
   ]
  },
  {
   "cell_type": "code",
   "execution_count": 35,
   "id": "4c4c4e9b",
   "metadata": {},
   "outputs": [],
   "source": [
    "from sklearn.metrics import confusion_matrix"
   ]
  },
  {
   "cell_type": "code",
   "execution_count": 36,
   "id": "3e655242",
   "metadata": {},
   "outputs": [
    {
     "data": {
      "text/plain": [
       "array([[1480,  102],\n",
       "       [ 676,  127]], dtype=int64)"
      ]
     },
     "execution_count": 36,
     "metadata": {},
     "output_type": "execute_result"
    }
   ],
   "source": [
    "confusion_matrix(y_test, knn_predictions)"
   ]
  },
  {
   "cell_type": "markdown",
   "id": "1cba54c4",
   "metadata": {},
   "source": [
    "Матрица ошибок хороша, но можно ли сделать её легче для восприятия? Попробуйте сделать тепловую карту."
   ]
  },
  {
   "cell_type": "code",
   "execution_count": 81,
   "id": "aec0879f",
   "metadata": {},
   "outputs": [],
   "source": [
    "# Ваш код\n",
    "..."
   ]
  },
  {
   "cell_type": "markdown",
   "id": "c6bb122e",
   "metadata": {},
   "source": [
    "Продолжим изучение метрик. Что мы можем получить ещё из матрицы ошибок? Два важных показателя.\n",
    "\n",
    "---\n",
    "\n",
    "$Precision = \\frac{TP}{TP+FP}$\n",
    "\n",
    "Точность определяет, как много отрицательных ответов нашла модель, пока искала положительные. Чем больше отрицательных, тем ниже точность.\n",
    "\n",
    "---\n",
    "\n",
    "$Recall = \\frac{TP}{TP+FN}$\n",
    "\n",
    "Полнота выявляет, какую долю положительных среди всех ответов выделила модель. Обычно они на вес золота, и важно понимать, как хорошо модель их находит."
   ]
  },
  {
   "cell_type": "code",
   "execution_count": 31,
   "id": "e2f0644d",
   "metadata": {},
   "outputs": [],
   "source": [
    "from sklearn.metrics import precision_score, recall_score, f1_score"
   ]
  },
  {
   "cell_type": "code",
   "execution_count": 32,
   "id": "50e73731",
   "metadata": {},
   "outputs": [
    {
     "name": "stdout",
     "output_type": "stream",
     "text": [
      "Precision: 0.5545851528384279\n",
      "Recall: 0.1581569115815691\n"
     ]
    }
   ],
   "source": [
    "precision = precision_score(y_test, knn_predictions)\n",
    "recall = recall_score(y_test, knn_predictions)\n",
    "print(f'Precision: {precision}')\n",
    "print(f'Recall: {recall}')"
   ]
  },
  {
   "cell_type": "markdown",
   "id": "7e2415f9",
   "metadata": {},
   "source": [
    "F1-мера - среднее гармоническое точности и полноты."
   ]
  },
  {
   "cell_type": "code",
   "execution_count": 33,
   "id": "21cda583",
   "metadata": {},
   "outputs": [
    {
     "name": "stdout",
     "output_type": "stream",
     "text": [
      "F1: 0.24612403100775196\n"
     ]
    }
   ],
   "source": [
    "f1 = f1_score(y_test, knn_predictions)\n",
    "print(f'F1: {f1}')"
   ]
  },
  {
   "cell_type": "code",
   "execution_count": 71,
   "id": "1d05908f",
   "metadata": {},
   "outputs": [
    {
     "name": "stderr",
     "output_type": "stream",
     "text": [
      "C:\\Users\\anato\\AppData\\Local\\Temp\\ipykernel_40908\\1478937934.py:9: RuntimeWarning: invalid value encountered in divide\n",
      "  z = 2*X*Y/(X+Y)\n"
     ]
    },
    {
     "data": {
      "image/png": "[encoded data removed]",
      "text/plain": [
       "<Figure size 700x600 with 2 Axes>"
      ]
     },
     "metadata": {},
     "output_type": "display_data"
    }
   ],
   "source": [
    "import matplotlib.pyplot as plt\n",
    "import numpy as np\n",
    "from matplotlib import ticker\n",
    "\n",
    "x = np.linspace(0, 1, 100)\n",
    "y = np.linspace(0, 1, 100)\n",
    "\n",
    "X, Y = np.meshgrid(x, y)\n",
    "z = 2*X*Y/(X+Y)\n",
    "\n",
    "fig, ax = plt.subplots(figsize=(7,6))\n",
    "cs = ax.contourf(X, Y, z, locator=ticker.LinearLocator())\n",
    "cbar = fig.colorbar(cs)\n",
    "plt.xlabel('Precision')\n",
    "plt.ylabel('Recall')\n",
    "plt.title('F1-score');"
   ]
  },
  {
   "cell_type": "code",
   "execution_count": null,
   "id": "be140b34",
   "metadata": {},
   "outputs": [],
   "source": []
  },
  {
   "cell_type": "markdown",
   "id": "e4d8cce8",
   "metadata": {},
   "source": [
    "## Нормализация"
   ]
  },
  {
   "cell_type": "code",
   "execution_count": 114,
   "id": "dab1865b",
   "metadata": {},
   "outputs": [],
   "source": [
    "from sklearn.preprocessing import StandardScaler, MinMaxScaler"
   ]
  },
  {
   "cell_type": "code",
   "execution_count": 115,
   "id": "33ebbd7b",
   "metadata": {},
   "outputs": [],
   "source": [
    "scaler = StandardScaler()"
   ]
  },
  {
   "cell_type": "code",
   "execution_count": 116,
   "id": "db125d3a",
   "metadata": {},
   "outputs": [
    {
     "data": {
      "text/plain": [
       "array([[-0.88697085,  0.4037797 ,  1.12362248, ..., -0.73169924,\n",
       "        -0.02897435, -0.81954393],\n",
       "       [-0.93494042,  0.80894716,  0.75502011, ...,  0.80315257,\n",
       "        -0.02897435, -0.81954393],\n",
       "       [ 0.02445086, -0.81172266, -0.4150388 , ...,  0.80315257,\n",
       "        -0.02897435, -0.81954393],\n",
       "       ...,\n",
       "       [ 0.60008563,  1.61928207, -1.95370008, ...,  0.80315257,\n",
       "        -0.02897435,  1.22019084],\n",
       "       [ 0.98384215, -1.01430639, -0.89185471, ...,  2.33800439,\n",
       "        -0.02897435,  1.22019084],\n",
       "       [ 0.69602476, -0.20397148, -0.98992323, ..., -0.73169924,\n",
       "        -0.02897435,  1.22019084]])"
      ]
     },
     "execution_count": 116,
     "metadata": {},
     "output_type": "execute_result"
    }
   ],
   "source": [
    "scaler.fit_transform(x_train)"
   ]
  },
  {
   "cell_type": "code",
   "execution_count": null,
   "id": "2a856a3f",
   "metadata": {},
   "outputs": [],
   "source": []
  },
  {
   "cell_type": "code",
   "execution_count": null,
   "id": "942330e1",
   "metadata": {},
   "outputs": [],
   "source": []
  },
  {
   "cell_type": "markdown",
   "id": "55856a47",
   "metadata": {},
   "source": [
    "## Дисбаланс"
   ]
  },
  {
   "cell_type": "markdown",
   "id": "57196e21",
   "metadata": {},
   "source": [
    "Посмотрим на объемы данных в наших классах. Напишите код. чтобы сравнить их размеры:"
   ]
  },
  {
   "cell_type": "code",
   "execution_count": 78,
   "id": "6c41a00d",
   "metadata": {},
   "outputs": [],
   "source": [
    "# Ваш код\n",
    "..."
   ]
  },
  {
   "cell_type": "markdown",
   "id": "8696ee05",
   "metadata": {},
   "source": [
    "Upsampling and Downsampling"
   ]
  },
  {
   "cell_type": "code",
   "execution_count": null,
   "id": "0287c8f6",
   "metadata": {},
   "outputs": [],
   "source": []
  },
  {
   "cell_type": "markdown",
   "id": "d52ea58b",
   "metadata": {},
   "source": [
    "Синтез"
   ]
  },
  {
   "cell_type": "code",
   "execution_count": null,
   "id": "5c56508a",
   "metadata": {},
   "outputs": [],
   "source": []
  },
  {
   "cell_type": "code",
   "execution_count": null,
   "id": "f8270265",
   "metadata": {},
   "outputs": [],
   "source": []
  },
  {
   "cell_type": "code",
   "execution_count": null,
   "id": "638e905a",
   "metadata": {},
   "outputs": [],
   "source": []
  },
  {
   "cell_type": "markdown",
   "id": "c831ad77",
   "metadata": {},
   "source": [
    "## Дерево решений"
   ]
  },
  {
   "cell_type": "code",
   "execution_count": 82,
   "id": "700a8555",
   "metadata": {},
   "outputs": [],
   "source": [
    "from sklearn.tree import DecisionTreeClassifier"
   ]
  },
  {
   "cell_type": "code",
   "execution_count": 108,
   "id": "3bca5b72",
   "metadata": {},
   "outputs": [],
   "source": [
    "clf = DecisionTreeClassifier(random_state=42)"
   ]
  },
  {
   "cell_type": "code",
   "execution_count": 109,
   "id": "32d82a06",
   "metadata": {},
   "outputs": [
    {
     "data": {
      "text/html": [
       "<style>#sk-container-id-4 {color: black;}#sk-container-id-4 pre{padding: 0;}#sk-container-id-4 div.sk-toggleable {background-color: white;}#sk-container-id-4 label.sk-toggleable__label {cursor: pointer;display: block;width: 100%;margin-bottom: 0;padding: 0.3em;box-sizing: border-box;text-align: center;}#sk-container-id-4 label.sk-toggleable__label-arrow:before {content: \"▸\";float: left;margin-right: 0.25em;color: #696969;}#sk-container-id-4 label.sk-toggleable__label-arrow:hover:before {color: black;}#sk-container-id-4 div.sk-estimator:hover label.sk-toggleable__label-arrow:before {color: black;}#sk-container-id-4 div.sk-toggleable__content {max-height: 0;max-width: 0;overflow: hidden;text-align: left;background-color: #f0f8ff;}#sk-container-id-4 div.sk-toggleable__content pre {margin: 0.2em;color: black;border-radius: 0.25em;background-color: #f0f8ff;}#sk-container-id-4 input.sk-toggleable__control:checked~div.sk-toggleable__content {max-height: 200px;max-width: 100%;overflow: auto;}#sk-container-id-4 input.sk-toggleable__control:checked~label.sk-toggleable__label-arrow:before {content: \"▾\";}#sk-container-id-4 div.sk-estimator input.sk-toggleable__control:checked~label.sk-toggleable__label {background-color: #d4ebff;}#sk-container-id-4 div.sk-label input.sk-toggleable__control:checked~label.sk-toggleable__label {background-color: #d4ebff;}#sk-container-id-4 input.sk-hidden--visually {border: 0;clip: rect(1px 1px 1px 1px);clip: rect(1px, 1px, 1px, 1px);height: 1px;margin: -1px;overflow: hidden;padding: 0;position: absolute;width: 1px;}#sk-container-id-4 div.sk-estimator {font-family: monospace;background-color: #f0f8ff;border: 1px dotted black;border-radius: 0.25em;box-sizing: border-box;margin-bottom: 0.5em;}#sk-container-id-4 div.sk-estimator:hover {background-color: #d4ebff;}#sk-container-id-4 div.sk-parallel-item::after {content: \"\";width: 100%;border-bottom: 1px solid gray;flex-grow: 1;}#sk-container-id-4 div.sk-label:hover label.sk-toggleable__label {background-color: #d4ebff;}#sk-container-id-4 div.sk-serial::before {content: \"\";position: absolute;border-left: 1px solid gray;box-sizing: border-box;top: 0;bottom: 0;left: 50%;z-index: 0;}#sk-container-id-4 div.sk-serial {display: flex;flex-direction: column;align-items: center;background-color: white;padding-right: 0.2em;padding-left: 0.2em;position: relative;}#sk-container-id-4 div.sk-item {position: relative;z-index: 1;}#sk-container-id-4 div.sk-parallel {display: flex;align-items: stretch;justify-content: center;background-color: white;position: relative;}#sk-container-id-4 div.sk-item::before, #sk-container-id-4 div.sk-parallel-item::before {content: \"\";position: absolute;border-left: 1px solid gray;box-sizing: border-box;top: 0;bottom: 0;left: 50%;z-index: -1;}#sk-container-id-4 div.sk-parallel-item {display: flex;flex-direction: column;z-index: 1;position: relative;background-color: white;}#sk-container-id-4 div.sk-parallel-item:first-child::after {align-self: flex-end;width: 50%;}#sk-container-id-4 div.sk-parallel-item:last-child::after {align-self: flex-start;width: 50%;}#sk-container-id-4 div.sk-parallel-item:only-child::after {width: 0;}#sk-container-id-4 div.sk-dashed-wrapped {border: 1px dashed gray;margin: 0 0.4em 0.5em 0.4em;box-sizing: border-box;padding-bottom: 0.4em;background-color: white;}#sk-container-id-4 div.sk-label label {font-family: monospace;font-weight: bold;display: inline-block;line-height: 1.2em;}#sk-container-id-4 div.sk-label-container {text-align: center;}#sk-container-id-4 div.sk-container {/* jupyter's `normalize.less` sets `[hidden] { display: none; }` but bootstrap.min.css set `[hidden] { display: none !important; }` so we also need the `!important` here to be able to override the default hidden behavior on the sphinx rendered scikit-learn.org. See: https://github.com/scikit-learn/scikit-learn/issues/21755 */display: inline-block !important;position: relative;}#sk-container-id-4 div.sk-text-repr-fallback {display: none;}</style><div id=\"sk-container-id-4\" class=\"sk-top-container\"><div class=\"sk-text-repr-fallback\"><pre>DecisionTreeClassifier(random_state=42)</pre><b>In a Jupyter environment, please rerun this cell to show the HTML representation or trust the notebook. <br />On GitHub, the HTML representation is unable to render, please try loading this page with nbviewer.org.</b></div><div class=\"sk-container\" hidden><div class=\"sk-item\"><div class=\"sk-estimator sk-toggleable\"><input class=\"sk-toggleable__control sk-hidden--visually\" id=\"sk-estimator-id-4\" type=\"checkbox\" checked><label for=\"sk-estimator-id-4\" class=\"sk-toggleable__label sk-toggleable__label-arrow\">DecisionTreeClassifier</label><div class=\"sk-toggleable__content\"><pre>DecisionTreeClassifier(random_state=42)</pre></div></div></div></div></div>"
      ],
      "text/plain": [
       "DecisionTreeClassifier(random_state=42)"
      ]
     },
     "execution_count": 109,
     "metadata": {},
     "output_type": "execute_result"
    }
   ],
   "source": [
    "clf.fit(x_train, y_train)"
   ]
  },
  {
   "cell_type": "code",
   "execution_count": 110,
   "id": "db29fb8c",
   "metadata": {},
   "outputs": [],
   "source": [
    "pred = clf.predict(x_test)"
   ]
  },
  {
   "cell_type": "code",
   "execution_count": 111,
   "id": "5a9cde13",
   "metadata": {},
   "outputs": [
    {
     "data": {
      "text/plain": [
       "1.0"
      ]
     },
     "execution_count": 111,
     "metadata": {},
     "output_type": "execute_result"
    }
   ],
   "source": [
    "accuracy_score(y_test, pred)"
   ]
  },
  {
   "cell_type": "code",
   "execution_count": 112,
   "id": "2fe31b30",
   "metadata": {},
   "outputs": [],
   "source": [
    "from sklearn import tree"
   ]
  },
  {
   "cell_type": "code",
   "execution_count": 113,
   "id": "5183b121",
   "metadata": {},
   "outputs": [
    {
     "data": {
      "image/png": "[encoded data removed]",
      "text/plain": [
       "<Figure size 640x480 with 1 Axes>"
      ]
     },
     "metadata": {},
     "output_type": "display_data"
    }
   ],
   "source": [
    "tree.plot_tree(clf);"
   ]
  },
  {
   "cell_type": "markdown",
   "id": "d61f97ee",
   "metadata": {},
   "source": [
    "## Кросс-валидация"
   ]
  },
  {
   "cell_type": "code",
   "execution_count": null,
   "id": "8a32b6ff",
   "metadata": {},
   "outputs": [],
   "source": []
  },
  {
   "cell_type": "code",
   "execution_count": null,
   "id": "e398b172",
   "metadata": {},
   "outputs": [],
   "source": []
  }
 ],
 "metadata": {
  "kernelspec": {
   "display_name": "Python 3 (ipykernel)",
   "language": "python",
   "name": "python3"
  },
  "language_info": {
   "codemirror_mode": {
    "name": "ipython",
    "version": 3
   },
   "file_extension": ".py",
   "mimetype": "text/x-python",
   "name": "python",
   "nbconvert_exporter": "python",
   "pygments_lexer": "ipython3",
   "version": "3.9.18"
  },
  "toc": {
   "base_numbering": 1,
   "nav_menu": {},
   "number_sections": true,
   "sideBar": true,
   "skip_h1_title": false,
   "title_cell": "Table of Contents",
   "title_sidebar": "Contents",
   "toc_cell": false,
   "toc_position": {},
   "toc_section_display": true,
   "toc_window_display": false
  }
 },
 "nbformat": 4,
 "nbformat_minor": 5
}
