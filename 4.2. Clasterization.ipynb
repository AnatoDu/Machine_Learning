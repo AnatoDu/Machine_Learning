{
 "cells": [
  {
   "cell_type": "markdown",
   "id": "4e9fc459-fd0f-4188-89db-ced435484ed0",
   "metadata": {},
   "source": [
    "# Clasterization\n",
    "\n",
    "--- \n",
    "Author: Anatoliy Durkin\n",
    "\n",
    "Updated: 25.04.2025\n",
    "\n",
    "---\n",
    "В ноутбуке рассмотрены методы кластеризации"
   ]
  },
  {
   "cell_type": "code",
   "execution_count": null,
   "id": "824ebf61-ab28-47c2-a294-cfb7c45b725b",
   "metadata": {},
   "outputs": [],
   "source": [
    "import pandas as pd\n",
    "import matplotlib.pyplot as plt\n",
    "import seaborn as sns\n",
    "from sklearn.preprocessing import StandardScaler\n",
    "from sklearn.preprocessing import LabelEncoder\n",
    "from sklearn.decomposition import PCA"
   ]
  },
  {
   "cell_type": "markdown",
   "id": "bfc790eb-c04c-4e24-864b-e2e7c090ba49",
   "metadata": {},
   "source": [
    "Что такое кластеризация?\n",
    "\n",
    "Чем кластеризация отличается от классификации?\n",
    "\n",
    "Для каких задач используется кластеризация?"
   ]
  },
  {
   "cell_type": "code",
   "execution_count": null,
   "id": "c61aef2a-739d-4595-b423-aa2e62cf7374",
   "metadata": {},
   "outputs": [],
   "source": [
    "from sklearn.datasets import make_blobs"
   ]
  },
  {
   "cell_type": "code",
   "execution_count": null,
   "id": "348e4c79-f45e-4570-b9f7-de48e314a315",
   "metadata": {},
   "outputs": [],
   "source": [
    "# Генерируем синтетические данные\n",
    "X, y = make_blobs(n_samples=300, centers=3, random_state=42)\n",
    "plt.scatter(X[:, 0], X[:, 1], s=50)\n",
    "plt.title(\"Данные для кластеризации\")"
   ]
  },
  {
   "cell_type": "markdown",
   "id": "959c9615-a896-4694-a6c6-b55e89467098",
   "metadata": {},
   "source": [
    "## K-Means"
   ]
  },
  {
   "cell_type": "code",
   "execution_count": null,
   "id": "10818c47-13a5-40ab-9f9c-2cb33f1ef288",
   "metadata": {},
   "outputs": [],
   "source": [
    "peng = pd.read_csv('penguins.csv')"
   ]
  },
  {
   "cell_type": "code",
   "execution_count": null,
   "id": "dc209581-4bf3-4d21-99ce-d1defa218983",
   "metadata": {},
   "outputs": [],
   "source": [
    "peng = peng[peng['sex']!='.']\n",
    "peng = peng[(peng['flipper_length_mm']<1000) & (peng['flipper_length_mm']>100)]\n",
    "peng = peng.dropna().reset_index(drop=True)\n",
    "peng = pd.get_dummies(peng, drop_first=True)"
   ]
  },
  {
   "cell_type": "code",
   "execution_count": null,
   "id": "6942ec58-3558-4331-bf66-4de6d65705f0",
   "metadata": {},
   "outputs": [],
   "source": [
    "peng.head()"
   ]
  },
  {
   "cell_type": "code",
   "execution_count": null,
   "id": "06929629-b9df-42c2-9bd6-fd24552e0a2b",
   "metadata": {},
   "outputs": [],
   "source": [
    "from sklearn.cluster import KMeans"
   ]
  },
  {
   "cell_type": "code",
   "execution_count": null,
   "id": "56d318a5-6307-47d5-935b-7ce0ab408b6e",
   "metadata": {},
   "outputs": [],
   "source": [
    "kmeans = KMeans(n_clusters=3, random_state=42)\n",
    "clusters = kmeans.fit_predict(peng)"
   ]
  },
  {
   "cell_type": "code",
   "execution_count": null,
   "id": "51dce31a-1405-4a67-8351-c2fc20338d45",
   "metadata": {},
   "outputs": [],
   "source": [
    "plt.scatter(peng['culmen_length_mm'], peng['culmen_depth_mm'], c=clusters, s=50, cmap='viridis')\n",
    "plt.scatter(kmeans.cluster_centers_[:, 0], kmeans.cluster_centers_[:, 1], c='red', s=200, marker='X')\n",
    "plt.title(\"K-Means: Результат кластеризации\")\n",
    "plt.show()"
   ]
  },
  {
   "cell_type": "code",
   "execution_count": null,
   "id": "631f72f4-85f9-4fe4-86ec-1452e167869e",
   "metadata": {},
   "outputs": [],
   "source": [
    "peng2 = peng.copy()\n",
    "peng2['cl'] = clusters"
   ]
  },
  {
   "cell_type": "code",
   "execution_count": null,
   "id": "19ab515e-55f8-469c-ae83-fa7c49b48e1d",
   "metadata": {},
   "outputs": [],
   "source": [
    "sns.pairplot(peng2, hue='cl')"
   ]
  },
  {
   "cell_type": "code",
   "execution_count": null,
   "id": "02108e69-e9df-4ae3-b6b6-d64dc92dc13b",
   "metadata": {},
   "outputs": [],
   "source": [
    "scaler = StandardScaler()\n",
    "peng = pd.DataFrame(scaler.fit_transform(peng), columns=peng.columns)"
   ]
  },
  {
   "cell_type": "code",
   "execution_count": null,
   "id": "ed70f879-c736-4197-acb6-f0a3ffc9a01c",
   "metadata": {},
   "outputs": [],
   "source": [
    "kmeans = KMeans(n_clusters=3, random_state=42)\n",
    "clusters = kmeans.fit_predict(peng)"
   ]
  },
  {
   "cell_type": "code",
   "execution_count": null,
   "id": "adb60c66-2687-411c-8f04-bf7f64f594e8",
   "metadata": {},
   "outputs": [],
   "source": [
    "plt.scatter(peng['culmen_length_mm'], peng['culmen_depth_mm'], c=clusters, s=50, cmap='viridis')\n",
    "plt.scatter(kmeans.cluster_centers_[:, 0], kmeans.cluster_centers_[:, 1], c='red', s=200, marker='X')\n",
    "plt.title(\"K-Means: Результат кластеризации\")\n",
    "plt.show()"
   ]
  },
  {
   "cell_type": "code",
   "execution_count": null,
   "id": "41d67671-a3ee-4c7b-8f36-ba3f7f63dada",
   "metadata": {},
   "outputs": [],
   "source": [
    "peng2 = peng.copy()\n",
    "peng2['cl'] = clusters"
   ]
  },
  {
   "cell_type": "code",
   "execution_count": null,
   "id": "f3327b30-406b-4ae4-bce3-82b68b66b56d",
   "metadata": {},
   "outputs": [],
   "source": [
    "sns.pairplot(peng2, hue='cl')"
   ]
  },
  {
   "cell_type": "markdown",
   "id": "0b5d8234-f8d9-4837-80c3-42539978544f",
   "metadata": {},
   "source": [
    "Что не так с кластеризацией в этот раз? Как это можно исправить? Попробуйте внести изменения,чтобы кластеризация сработала лучше."
   ]
  },
  {
   "cell_type": "code",
   "execution_count": null,
   "id": "71e0297d-0b52-40b6-9f29-e26ba2fa37c0",
   "metadata": {},
   "outputs": [],
   "source": [
    "# Ваш код\n",
    "..."
   ]
  },
  {
   "cell_type": "markdown",
   "id": "32532495-9c01-4f2c-b38f-f50564217bc9",
   "metadata": {},
   "source": [
    "### Метод локтя\n",
    "\n",
    "Так же, как и для выбора оптимального числа компонент при снижении размерности, есть метод локтя для определения оптимального числа кластеров алгоритма KMeans. "
   ]
  },
  {
   "cell_type": "code",
   "execution_count": null,
   "id": "deff92ba-79c4-4585-bc86-f8604c53b6f4",
   "metadata": {},
   "outputs": [],
   "source": [
    "inertia = []\n",
    "for k in range(2, 7):\n",
    "    kmeans = KMeans(n_clusters=k, random_state=42).fit(peng)\n",
    "    inertia.append(kmeans.inertia_)  # Сумма квадратов расстояний до центроидов\n",
    "\n",
    "plt.plot(range(2, 7), inertia, marker='o')\n",
    "plt.xlabel(\"Число кластеров\")\n",
    "plt.ylabel(\"Inertia\")\n",
    "plt.title(\"Метод локтя\")\n",
    "plt.show()"
   ]
  },
  {
   "cell_type": "markdown",
   "id": "b2b87d70-d79e-4761-8354-c06bcac997c3",
   "metadata": {},
   "source": [
    "Почему `inertia` уменьшается с числом кластеров?\n",
    "\n",
    "Выбирать стоит число кластеров, где происходит излом, если он резкий. Если он мягкий, то стоит выбирать из близких значений."
   ]
  },
  {
   "cell_type": "markdown",
   "id": "d7a57188-a97c-440f-8672-068317bb3c46",
   "metadata": {},
   "source": [
    "Метрики:\n",
    "- `silhouette_score`: оценка компактности и разделимости кластеров.\n",
    "- `adjusted_rand_score`: сравнение с истинными метками (если есть)."
   ]
  },
  {
   "cell_type": "code",
   "execution_count": null,
   "id": "b7ae19c2-71f9-4a88-9266-3487ab15b761",
   "metadata": {},
   "outputs": [],
   "source": [
    "from sklearn.metrics import silhouette_score, adjusted_rand_score"
   ]
  },
  {
   "cell_type": "code",
   "execution_count": null,
   "id": "803ab840-d1c7-4756-996f-c000b0c6d567",
   "metadata": {},
   "outputs": [],
   "source": [
    "score_kmeans = silhouette_score(peng, clusters)\n",
    "print(f\"Silhouette Score (K-Means): {score_kmeans:.2f}\")"
   ]
  },
  {
   "cell_type": "markdown",
   "id": "cd47b179-6b98-43d8-a548-7b7014b9df91",
   "metadata": {},
   "source": [
    "Эту метрику также удобно использовать для выбора количества кластеров, но тут нужно брать число кластеров с максимальным значением метрики."
   ]
  },
  {
   "cell_type": "code",
   "execution_count": null,
   "id": "83edfd53-082b-4c5b-a281-4483b1ee48a9",
   "metadata": {},
   "outputs": [],
   "source": [
    "silhouette = []\n",
    "for k in range(2, 7):\n",
    "    clusters = KMeans(n_clusters=k, random_state=42).fit_predict(peng)\n",
    "    silhouette.append(silhouette_score(peng, clusters))\n",
    "\n",
    "plt.plot(range(2, 7), silhouette, marker='o')\n",
    "plt.xlabel(\"Число кластеров\")\n",
    "plt.ylabel(\"Silhouette\")\n",
    "plt.title(\"График силуэт\")\n",
    "plt.show()"
   ]
  },
  {
   "cell_type": "markdown",
   "id": "cddb5d35-95a7-4ac7-9a6f-d6c5292f4c58",
   "metadata": {},
   "source": [
    "Загрузим еще один датасет с данными по клиентам."
   ]
  },
  {
   "cell_type": "code",
   "execution_count": null,
   "id": "1032e644-84f5-4633-b49c-f9bf71687cc3",
   "metadata": {},
   "outputs": [],
   "source": [
    "cust = pd.read_csv('customer_segmentation.csv')"
   ]
  },
  {
   "cell_type": "code",
   "execution_count": null,
   "id": "e196f1c7-0958-4e6b-a20e-07a8ba41059a",
   "metadata": {},
   "outputs": [],
   "source": [
    "cust.info()"
   ]
  },
  {
   "cell_type": "code",
   "execution_count": null,
   "id": "ba94886a-ff7b-4613-ad16-9366fe9ea0fe",
   "metadata": {},
   "outputs": [],
   "source": [
    "cust = cust.drop(['Dt_Customer'], axis=1)\n",
    "cust['Education'] = LabelEncoder().fit_transform(cust['Education'])\n",
    "cust['Marital_Status'] = LabelEncoder().fit_transform(cust['Marital_Status'])\n",
    "\n",
    "cust = pd.DataFrame(StandardScaler().fit_transform(cust), columns=cust.columns).dropna()"
   ]
  },
  {
   "cell_type": "code",
   "execution_count": null,
   "id": "3f6d9f42-c95f-4cf4-af96-8406cfc22a41",
   "metadata": {},
   "outputs": [],
   "source": [
    "cust"
   ]
  },
  {
   "cell_type": "code",
   "execution_count": null,
   "id": "c725d97d-768d-4ecf-8002-d154a014cd84",
   "metadata": {},
   "outputs": [],
   "source": [
    "cust_pca = PCA(n_components=2).fit_transform(cust)\n",
    "\n",
    "plt.scatter(cust_pca[:, 0], cust_pca[:, 1])\n",
    "plt.title(\"Снижение размерности PCA\")\n",
    "plt.show()"
   ]
  },
  {
   "cell_type": "markdown",
   "id": "375c98af-da7c-49bc-8a64-ccb7b19a36ea",
   "metadata": {},
   "source": [
    "Воспользуйтесь методом локтя,чтобы определить, на сколько кластеров можно раделить эти данные. Также можно построить график силуэт."
   ]
  },
  {
   "cell_type": "code",
   "execution_count": null,
   "id": "9cbea00c-4250-480e-ae0f-8478887399d8",
   "metadata": {},
   "outputs": [],
   "source": [
    "# Ваш код\n",
    "..."
   ]
  },
  {
   "cell_type": "markdown",
   "id": "fbe26c6d-27b4-4058-ac45-8cfc7b1740e5",
   "metadata": {},
   "source": [
    "Возпользуйтесь методом KMeans для кластеризации."
   ]
  },
  {
   "cell_type": "code",
   "execution_count": null,
   "id": "6b27af55-2a00-41af-9beb-7736420fccba",
   "metadata": {},
   "outputs": [],
   "source": [
    "# Ваш код\n",
    "..."
   ]
  },
  {
   "cell_type": "code",
   "execution_count": null,
   "id": "beb9a197-e357-4fd9-a7cc-af72d28dec59",
   "metadata": {},
   "outputs": [],
   "source": [
    "# Визуализация \n",
    "plt.scatter(cust_pca[:, 0], cust_pca[:, 1], c=clusters, cmap='viridis')\n",
    "plt.title(\"Кластеризация KMeans\")\n",
    "plt.show()"
   ]
  },
  {
   "cell_type": "markdown",
   "id": "c4dba658-e5b4-415a-90d6-9a0f33a15aab",
   "metadata": {},
   "source": [
    "## Иерархическая кластеризация\n",
    "\n",
    "Агломеративный подход: каждая точка — отдельный кластер, затем объединяем ближайшие кластеры."
   ]
  },
  {
   "cell_type": "code",
   "execution_count": null,
   "id": "7ac266d0-4393-48cb-8268-6a8df46dbe9e",
   "metadata": {},
   "outputs": [],
   "source": [
    "from scipy.cluster.hierarchy import dendrogram, linkage"
   ]
  },
  {
   "cell_type": "code",
   "execution_count": null,
   "id": "5c8f171f-3e12-4e76-933a-c80a6884d741",
   "metadata": {},
   "outputs": [],
   "source": [
    "Z = linkage(peng, method='ward')\n",
    "plt.figure(figsize=(10, 5))\n",
    "dendrogram(Z)\n",
    "plt.title(\"Дендрограмма\")\n",
    "plt.show()"
   ]
  },
  {
   "cell_type": "markdown",
   "id": "8bc68042-fd01-4aef-bfa1-5911423166ad",
   "metadata": {},
   "source": [
    "Дендрограмма показывает, как отдельные элементы объединяются в кластеры. В итоге получается один кластер - весь набор данных. Но, прерывая процесс объединения раньше, можно получить желаемое количество кластеров. Это и делает следующий метод."
   ]
  },
  {
   "cell_type": "code",
   "execution_count": null,
   "id": "d0da4f8a-9f44-4b85-a5a9-8a90c85bc83e",
   "metadata": {},
   "outputs": [],
   "source": [
    "from sklearn.cluster import AgglomerativeClustering"
   ]
  },
  {
   "cell_type": "code",
   "execution_count": null,
   "id": "13cfa682-499b-404c-8b39-61972e1b9b3d",
   "metadata": {},
   "outputs": [],
   "source": [
    "agg = AgglomerativeClustering(n_clusters=3, linkage='ward')\n",
    "clusters_agg = agg.fit_predict(peng)"
   ]
  },
  {
   "cell_type": "code",
   "execution_count": null,
   "id": "1b949ebd-f4ed-433b-998a-6bde04631ff4",
   "metadata": {},
   "outputs": [],
   "source": [
    "plt.scatter(peng['culmen_length_mm'], peng['culmen_depth_mm'], c=clusters_agg, cmap='viridis')\n",
    "plt.title(\"Иерархическая кластеризация\")\n",
    "plt.show()"
   ]
  },
  {
   "cell_type": "markdown",
   "id": "a583a4b7-e03b-4407-b4a2-59b837810566",
   "metadata": {},
   "source": [
    "Все ли хорошо с этой кластеризацией? Что можно исправить?\n",
    "\n",
    "Теперь постройте дендрограмму для данных по клиентам."
   ]
  },
  {
   "cell_type": "code",
   "execution_count": null,
   "id": "0b1f8a5b-3117-4deb-8778-e80b037a1b0f",
   "metadata": {},
   "outputs": [],
   "source": [
    "# Ваш код\n",
    "..."
   ]
  },
  {
   "cell_type": "markdown",
   "id": "d837edcd-dec5-4315-b72d-14cda8882725",
   "metadata": {},
   "source": [
    "Какое количество кластеров будет хорошим вариантом? Можете оценить, как метод разделит данные при разном количестве кластеров."
   ]
  },
  {
   "cell_type": "code",
   "execution_count": null,
   "id": "988f74c9-fb05-4e68-823f-7f22ea3441d7",
   "metadata": {},
   "outputs": [],
   "source": [
    "agg = AgglomerativeClustering(n_clusters=6, linkage='ward')\n",
    "clusters_agg = agg.fit_predict(cust)"
   ]
  },
  {
   "cell_type": "code",
   "execution_count": null,
   "id": "254959bb-2be0-4655-b69a-b841d9401b9d",
   "metadata": {},
   "outputs": [],
   "source": [
    "plt.scatter(cust_pca[:, 0], cust_pca[:, 1], c=clusters_agg, cmap='viridis')\n",
    "plt.title(\"Иерархическая кластеризация\")\n",
    "plt.show()"
   ]
  },
  {
   "cell_type": "markdown",
   "id": "96830884-adff-44d9-8829-6a512cadc75b",
   "metadata": {},
   "source": [
    "## DBSCAN"
   ]
  },
  {
   "cell_type": "code",
   "execution_count": null,
   "id": "aaed3fd4-ac41-4923-8214-f4bfac14c5a2",
   "metadata": {},
   "outputs": [],
   "source": [
    "from sklearn.cluster import DBSCAN\n",
    "from sklearn.datasets import make_moons"
   ]
  },
  {
   "cell_type": "code",
   "execution_count": null,
   "id": "69a2f508-1216-488c-814d-57cca506331a",
   "metadata": {},
   "outputs": [],
   "source": [
    "X_moons, _ = make_moons(n_samples=300, noise=0.1, random_state=42)"
   ]
  },
  {
   "cell_type": "code",
   "execution_count": null,
   "id": "55579156-c506-47a0-ba07-902a0c14cd5d",
   "metadata": {},
   "outputs": [],
   "source": [
    "plt.scatter(X_moons[:, 0], X_moons[:, 1])\n",
    "plt.title(\"Синтетические данные\")\n",
    "plt.show()"
   ]
  },
  {
   "cell_type": "code",
   "execution_count": null,
   "id": "c57ee7a5-5ed2-413a-8e50-03d2b836ace6",
   "metadata": {},
   "outputs": [],
   "source": [
    "dbscan = DBSCAN(eps=0.2, min_samples=5)\n",
    "clusters_db = dbscan.fit_predict(X_moons)"
   ]
  },
  {
   "cell_type": "code",
   "execution_count": null,
   "id": "7edd138c-47cf-4dcc-8774-2bf4977f949f",
   "metadata": {},
   "outputs": [],
   "source": [
    "plt.scatter(X_moons[:, 0], X_moons[:, 1], c=clusters_db, cmap='viridis')\n",
    "plt.title(\"DBSCAN: Результат кластеризации\")\n",
    "plt.show()"
   ]
  },
  {
   "cell_type": "markdown",
   "id": "1ff945e6-d5af-46b6-a840-b4bad40c9778",
   "metadata": {},
   "source": [
    "Еще одно отличное применение этого метода - обнаружение шумов. Обратите внимание, как при снижении расстояния между соседями отстоящие чуть дальше точки могут отделяться от основных кластеров. Это как раз процесс выделения шумов."
   ]
  },
  {
   "cell_type": "code",
   "execution_count": null,
   "id": "fb282620-157d-4f1c-88c5-3be900fccc37",
   "metadata": {},
   "outputs": [],
   "source": [
    "dbscan = DBSCAN(eps=0.15, min_samples=5)\n",
    "clusters_db = dbscan.fit_predict(X_moons)"
   ]
  },
  {
   "cell_type": "code",
   "execution_count": null,
   "id": "a2b3e0c8-67fb-4482-aa98-badf1095c1cf",
   "metadata": {},
   "outputs": [],
   "source": [
    "plt.scatter(X_moons[:, 0], X_moons[:, 1], c=clusters_db, cmap='viridis')\n",
    "plt.title(\"DBSCAN: Результат кластеризации\")\n",
    "plt.show()"
   ]
  },
  {
   "cell_type": "markdown",
   "id": "a44d96a9-3606-483b-affd-57d278686e4f",
   "metadata": {},
   "source": [
    "А как с этими же данными справится KMeans?"
   ]
  },
  {
   "cell_type": "code",
   "execution_count": null,
   "id": "604ef3b2-f7c5-4758-84d0-167486c5bbc6",
   "metadata": {},
   "outputs": [],
   "source": [
    "# Ваш код\n",
    "..."
   ]
  },
  {
   "cell_type": "markdown",
   "id": "68391275-c02a-4895-8cff-46bf1eb643aa",
   "metadata": {},
   "source": [
    "Посмотрим, как DBSCAN разделит данные по пингвинам, и возможноли получить на этих данных хорошее разделение."
   ]
  },
  {
   "cell_type": "code",
   "execution_count": null,
   "id": "2f15fc19-9652-4d31-84fb-d5942f751a9e",
   "metadata": {},
   "outputs": [],
   "source": [
    "dbscan = DBSCAN(eps=1, min_samples=5)\n",
    "clusters_db = dbscan.fit_predict(peng.dropna())"
   ]
  },
  {
   "cell_type": "code",
   "execution_count": null,
   "id": "b5c96101-f320-4bf6-bfae-1aef25cb9783",
   "metadata": {},
   "outputs": [],
   "source": [
    "plt.scatter(peng['culmen_length_mm'], peng['culmen_depth_mm'], c=clusters_db, cmap='viridis')\n",
    "plt.title(\"DBSCAN: Результат кластеризации\")\n",
    "plt.show()"
   ]
  },
  {
   "cell_type": "code",
   "execution_count": null,
   "id": "f554c4ba-b6ed-437b-b36f-ded0ad6a7946",
   "metadata": {},
   "outputs": [],
   "source": []
  },
  {
   "cell_type": "code",
   "execution_count": null,
   "id": "4963e36f-24c4-4a8b-8a9b-198f4fec37b9",
   "metadata": {},
   "outputs": [],
   "source": []
  }
 ],
 "metadata": {
  "kernelspec": {
   "display_name": "Python [conda env:base] *",
   "language": "python",
   "name": "conda-base-py"
  },
  "language_info": {
   "codemirror_mode": {
    "name": "ipython",
    "version": 3
   },
   "file_extension": ".py",
   "mimetype": "text/x-python",
   "name": "python",
   "nbconvert_exporter": "python",
   "pygments_lexer": "ipython3",
   "version": "3.9.18"
  }
 },
 "nbformat": 4,
 "nbformat_minor": 5
}
