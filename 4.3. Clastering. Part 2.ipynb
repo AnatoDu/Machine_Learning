{
 "cells": [
  {
   "cell_type": "markdown",
   "metadata": {
    "id": "6Ofu5RTj8E5g"
   },
   "source": [
    "# Clastering. Part 2\n",
    "\n",
    "---\n",
    "Author: Anatoliy Durkin\n",
    "\n",
    "Updated: 02.05.2025\n",
    "\n",
    "---\n",
    "В ноутбуке рассмотерны методы кластеризации"
   ]
  },
  {
   "cell_type": "code",
   "execution_count": null,
   "metadata": {
    "id": "wV_1Udqg8D0t"
   },
   "outputs": [],
   "source": [
    "import pandas as pd\n",
    "import numpy as np\n",
    "import matplotlib.pyplot as plt\n",
    "from sklearn.preprocessing import StandardScaler, LabelEncoder\n",
    "from sklearn.decomposition import PCA\n",
    "from sklearn.cluster import KMeans\n",
    "from sklearn.metrics import silhouette_score"
   ]
  },
  {
   "cell_type": "code",
   "execution_count": null,
   "metadata": {
    "id": "dsiSsVfB33BT"
   },
   "outputs": [],
   "source": [
    "peng = pd.read_csv('penguins.csv')\n",
    "peng = peng[peng['sex']!='.']\n",
    "peng = peng[(peng['flipper_length_mm']<1000) & (peng['flipper_length_mm']>100)]\n",
    "peng = peng.dropna().reset_index(drop=True)\n",
    "peng = pd.get_dummies(peng, drop_first=True)\n",
    "\n",
    "peng_norm = pd.DataFrame(StandardScaler().fit_transform(peng), columns=peng.columns).dropna()\n",
    "\n",
    "\n",
    "cust = pd.read_csv('customer_segmentation.csv')\n",
    "cust = cust.drop(['ID', 'Dt_Customer'], axis=1)\n",
    "cust['Education'] = LabelEncoder().fit_transform(cust['Education'])\n",
    "cust['Marital_Status'] = LabelEncoder().fit_transform(cust['Marital_Status'])\n",
    "\n",
    "cust_norm = pd.DataFrame(StandardScaler().fit_transform(cust), columns=cust.columns).dropna()\n",
    "cust_pca = PCA(n_components=2).fit_transform(cust_norm)"
   ]
  },
  {
   "cell_type": "code",
   "execution_count": null,
   "metadata": {
    "colab": {
     "base_uri": "https://localhost:8080/",
     "height": 206
    },
    "id": "kQk2SCwJ4fdo",
    "outputId": "7c262a82-2512-43c1-ee26-488c6fea951a"
   },
   "outputs": [],
   "source": [
    "peng_norm.head()"
   ]
  },
  {
   "cell_type": "code",
   "execution_count": null,
   "metadata": {
    "colab": {
     "base_uri": "https://localhost:8080/",
     "height": 236
    },
    "id": "i-en-4e84h83",
    "outputId": "86f776b3-759c-4dcd-82c7-608d85e2c545"
   },
   "outputs": [],
   "source": [
    "cust_norm.head()"
   ]
  },
  {
   "cell_type": "markdown",
   "metadata": {
    "id": "TSLpIbfuRJJa"
   },
   "source": [
    "## Gaussian Mixture Models (GMM)\n",
    "\n",
    "Когда использовать:\n",
    "\n",
    "- Кластеры с перекрытием\n",
    "- Нужны вероятности принадлежности\n",
    "- Разные размеры/формы кластеров"
   ]
  },
  {
   "cell_type": "code",
   "execution_count": null,
   "metadata": {
    "id": "wmvQatgwRfhZ"
   },
   "outputs": [],
   "source": [
    "from sklearn.mixture import GaussianMixture\n",
    "from sklearn.datasets import make_blobs"
   ]
  },
  {
   "cell_type": "code",
   "execution_count": null,
   "metadata": {
    "id": "kHtN6vtLRzO4"
   },
   "outputs": [],
   "source": [
    "# Данные с разной дисперсией\n",
    "X, _ = make_blobs(n_samples=300, centers=3, cluster_std=[1.0, 2.5, 0.5], random_state=42)"
   ]
  },
  {
   "cell_type": "code",
   "execution_count": null,
   "metadata": {
    "colab": {
     "base_uri": "https://localhost:8080/",
     "height": 452
    },
    "id": "O9_CcdXER0o8",
    "outputId": "17c555b3-e79b-4d04-cfd4-4544a9fde9e5"
   },
   "outputs": [],
   "source": [
    "plt.scatter(X[:,0], X[:,1])\n",
    "plt.title(\"Данные с разной дисперсией\")\n",
    "plt.show()"
   ]
  },
  {
   "cell_type": "code",
   "execution_count": null,
   "metadata": {
    "id": "kBMzRzC7S6Xk"
   },
   "outputs": [],
   "source": [
    "gmm = GaussianMixture(n_components=3)\n",
    "gmm.fit(X)\n",
    "clusters = gmm.predict(X)"
   ]
  },
  {
   "cell_type": "code",
   "execution_count": null,
   "metadata": {
    "id": "LScRrGNsTG6c"
   },
   "outputs": [],
   "source": [
    "# Границы кластеров\n",
    "x_min, x_max = X[:, 0].min() - 1, X[:, 0].max() + 1\n",
    "y_min, y_max = X[:, 1].min() - 1, X[:, 1].max() + 1\n",
    "xx, yy = np.meshgrid(np.linspace(x_min, x_max, 100), np.linspace(y_min, y_max, 100))\n",
    "Z = gmm.predict(np.c_[xx.ravel(), yy.ravel()]).reshape(xx.shape)"
   ]
  },
  {
   "cell_type": "code",
   "execution_count": null,
   "metadata": {
    "colab": {
     "base_uri": "https://localhost:8080/",
     "height": 452
    },
    "id": "juDJGmYz8ZHs",
    "outputId": "1d09837a-e2f0-4409-fe3b-a028a30d3064"
   },
   "outputs": [],
   "source": [
    "plt.contourf(xx, yy, Z, alpha=0.3)\n",
    "plt.scatter(X[:, 0], X[:, 1], c=clusters, s=50)\n",
    "plt.title(\"GMM с разными дисперсиями\")\n",
    "plt.show()"
   ]
  },
  {
   "cell_type": "code",
   "execution_count": null,
   "metadata": {
    "colab": {
     "base_uri": "https://localhost:8080/",
     "height": 452
    },
    "id": "40jR955KTMJX",
    "outputId": "a963a35f-3b5b-4947-fa34-12bede778b73"
   },
   "outputs": [],
   "source": [
    "gmm = GaussianMixture(n_components=3, covariance_type='spherical')\n",
    "gmm.fit(X)\n",
    "clusters = gmm.predict(X)\n",
    "\n",
    "x_min, x_max = X[:, 0].min() - 1, X[:, 0].max() + 1\n",
    "y_min, y_max = X[:, 1].min() - 1, X[:, 1].max() + 1\n",
    "xx, yy = np.meshgrid(np.linspace(x_min, x_max, 100), np.linspace(y_min, y_max, 100))\n",
    "Z = gmm.predict(np.c_[xx.ravel(), yy.ravel()]).reshape(xx.shape)\n",
    "\n",
    "plt.contourf(xx, yy, Z, alpha=0.3)\n",
    "plt.scatter(X[:, 0], X[:, 1], c=clusters, s=50)\n",
    "plt.title(\"GMM с разными дисперсиями\")\n",
    "plt.show()"
   ]
  },
  {
   "cell_type": "code",
   "execution_count": null,
   "metadata": {
    "colab": {
     "base_uri": "https://localhost:8080/",
     "height": 472
    },
    "id": "XScHrB2CTq4S",
    "outputId": "318c51bb-c279-41c1-80df-ecbda22d7074"
   },
   "outputs": [],
   "source": [
    "silhouette = []\n",
    "for k in range(2, 7):\n",
    "    clusters = KMeans(n_clusters=k, random_state=42).fit_predict(X)\n",
    "    silhouette.append(silhouette_score(X, clusters))\n",
    "\n",
    "plt.plot(range(2, 7), silhouette, marker='o')\n",
    "plt.xlabel(\"Число кластеров\")\n",
    "plt.ylabel(\"Silhouette\")\n",
    "plt.title(\"График силуэт\")\n",
    "plt.show()"
   ]
  },
  {
   "cell_type": "code",
   "execution_count": null,
   "metadata": {
    "colab": {
     "base_uri": "https://localhost:8080/",
     "height": 472
    },
    "id": "7KKZcjpQUMTr",
    "outputId": "1d859ba8-a651-4af9-cc88-7841ccd6f199"
   },
   "outputs": [],
   "source": [
    "silhouette = []\n",
    "for k in range(2, 7):\n",
    "    clusters = GaussianMixture(n_components=3).fit_predict(X)\n",
    "    silhouette.append(silhouette_score(X, clusters))\n",
    "\n",
    "plt.plot(range(2, 7), silhouette, marker='o')\n",
    "plt.xlabel(\"Число кластеров\")\n",
    "plt.ylabel(\"Silhouette\")\n",
    "plt.title(\"График силуэт\")\n",
    "plt.show()"
   ]
  },
  {
   "cell_type": "markdown",
   "metadata": {
    "id": "UWFDnx9-0cu1"
   },
   "source": [
    "Также для выбора количества кластеров можно использовать BIC, но это подходит только для GMM."
   ]
  },
  {
   "cell_type": "code",
   "execution_count": null,
   "metadata": {
    "colab": {
     "base_uri": "https://localhost:8080/",
     "height": 472
    },
    "id": "GIh_hlm40dPZ",
    "outputId": "b8c23b4c-15a1-4424-b2de-54050c7e5da7"
   },
   "outputs": [],
   "source": [
    "bics = []\n",
    "for n in range(1, 10):\n",
    "    gmm = GaussianMixture(n_components=n).fit(X)\n",
    "    bics.append(gmm.bic(X))\n",
    "plt.plot(range(1, 10), bics)\n",
    "plt.xlabel(\"Число кластеров\")\n",
    "plt.title(\"График BIC\")\n",
    "plt.show()"
   ]
  },
  {
   "cell_type": "markdown",
   "metadata": {
    "id": "KYDKR_fx6smy"
   },
   "source": [
    "Воспользуемся этим методом для наших наборов данных. Также определите, какое число кластеров оптимально по BIC для каждого набора."
   ]
  },
  {
   "cell_type": "code",
   "execution_count": null,
   "metadata": {
    "id": "524BioCe64ou"
   },
   "outputs": [],
   "source": [
    "# Ваш код\n",
    "..."
   ]
  },
  {
   "cell_type": "code",
   "execution_count": null,
   "metadata": {
    "colab": {
     "base_uri": "https://localhost:8080/",
     "height": 452
    },
    "id": "hYvA0V9Y5mV_",
    "outputId": "dab4e30b-4e42-4ed7-a93e-7d5e958df2b9"
   },
   "outputs": [],
   "source": [
    "gmm = GaussianMixture(n_components=3)\n",
    "gmm.fit(peng_norm.drop(['sex_MALE'], axis=1))\n",
    "clusters = gmm.predict(peng_norm.drop(['sex_MALE'], axis=1))\n",
    "\n",
    "plt.scatter(peng['culmen_length_mm'], peng['culmen_depth_mm'], c=clusters, s=50)\n",
    "plt.title(\"GMM с разными дисперсиями\")\n",
    "plt.show()"
   ]
  },
  {
   "cell_type": "code",
   "execution_count": null,
   "metadata": {
    "id": "DOU-PKou67zG"
   },
   "outputs": [],
   "source": [
    "# Ваш код\n",
    "..."
   ]
  },
  {
   "cell_type": "code",
   "execution_count": null,
   "metadata": {
    "colab": {
     "base_uri": "https://localhost:8080/",
     "height": 452
    },
    "id": "b0P0gX4k5mMR",
    "outputId": "b01a1dcf-ac67-4f85-95c8-5bacd00e212e"
   },
   "outputs": [],
   "source": [
    "gmm = GaussianMixture(n_components=3)\n",
    "gmm.fit(cust_norm)\n",
    "clusters = gmm.predict(cust_norm)\n",
    "\n",
    "plt.scatter(cust_pca[:, 0], cust_pca[:, 1], c=clusters, s=50)\n",
    "plt.title(\"GMM с разными дисперсиями\")\n",
    "plt.show()"
   ]
  },
  {
   "cell_type": "markdown",
   "metadata": {
    "id": "y2A59DhjUpcE"
   },
   "source": [
    "## Spectral Clustering\n",
    "\n",
    "Когда использовать:\n",
    "\n",
    "- Кластеры сложной формы (полумесяцы, кольца)\n",
    "- Когда DBSCAN не справляется"
   ]
  },
  {
   "cell_type": "code",
   "execution_count": null,
   "metadata": {
    "id": "T7V9AcOeVPlZ"
   },
   "outputs": [],
   "source": [
    "from sklearn.datasets import make_moons\n",
    "from sklearn.cluster import SpectralClustering"
   ]
  },
  {
   "cell_type": "code",
   "execution_count": null,
   "metadata": {
    "colab": {
     "base_uri": "https://localhost:8080/",
     "height": 452
    },
    "id": "DgHdLTF2VVrp",
    "outputId": "036580d0-2f6a-4bda-8fe5-6f147b130c43"
   },
   "outputs": [],
   "source": [
    "X, _ = make_moons(n_samples=300, noise=0.05, random_state=42)\n",
    "\n",
    "plt.scatter(X[:,0], X[:,1])\n",
    "plt.title(\"Данные полумесяцы\")\n",
    "plt.show()"
   ]
  },
  {
   "cell_type": "code",
   "execution_count": null,
   "metadata": {
    "colab": {
     "base_uri": "https://localhost:8080/"
    },
    "id": "eRFGf5q6Vlrd",
    "outputId": "9ae629d7-4ca6-4f95-fd2f-a604b176dec3"
   },
   "outputs": [],
   "source": [
    "spec = SpectralClustering(n_clusters=2, affinity='nearest_neighbors')\n",
    "clusters = spec.fit_predict(X)"
   ]
  },
  {
   "cell_type": "code",
   "execution_count": null,
   "metadata": {
    "colab": {
     "base_uri": "https://localhost:8080/",
     "height": 452
    },
    "id": "PymGvkSKUYF2",
    "outputId": "2f343f3d-be7a-4fa3-872a-88773ecec11b"
   },
   "outputs": [],
   "source": [
    "plt.scatter(X[:, 0], X[:, 1], c=clusters, cmap='viridis')\n",
    "plt.title(\"Spectral Clustering: Полумесяцы\")\n",
    "plt.show()"
   ]
  },
  {
   "cell_type": "markdown",
   "metadata": {
    "id": "wXAq-pRHWapg"
   },
   "source": [
    "Сравнение работы двух методов"
   ]
  },
  {
   "cell_type": "code",
   "execution_count": null,
   "metadata": {
    "colab": {
     "base_uri": "https://localhost:8080/",
     "height": 391
    },
    "id": "7nS3IrSrVxnJ",
    "outputId": "272b05dd-fbe5-44cc-faf7-cac261f1bbe8"
   },
   "outputs": [],
   "source": [
    "from sklearn.cluster import DBSCAN\n",
    "\n",
    "X, _ = make_moons(n_samples=300, noise=0.09, random_state=42)\n",
    "\n",
    "spec = SpectralClustering(n_clusters=2, affinity='nearest_neighbors')\n",
    "clusters = spec.fit_predict(X)\n",
    "\n",
    "dbscan = DBSCAN(eps=0.3, min_samples=5)\n",
    "clusters_db = dbscan.fit_predict(X)\n",
    "\n",
    "fig, (ax1, ax2) = plt.subplots(1, 2, figsize=(12, 4))\n",
    "ax1.scatter(X[:, 0], X[:, 1], c=clusters, cmap='viridis')\n",
    "ax1.set_title(\"Spectral Clustering\")\n",
    "ax2.scatter(X[:, 0], X[:, 1], c=clusters_db, cmap='viridis')\n",
    "ax2.set_title(\"DBSCAN\")\n",
    "plt.show()"
   ]
  },
  {
   "cell_type": "markdown",
   "metadata": {
    "id": "6kg8ZcXD7Au6"
   },
   "source": [
    "Что получится сделать с нашими датасетами?"
   ]
  },
  {
   "cell_type": "code",
   "execution_count": null,
   "metadata": {
    "id": "Rwz1-awL7AYC"
   },
   "outputs": [],
   "source": [
    "# Ваш код\n",
    "..."
   ]
  },
  {
   "cell_type": "markdown",
   "metadata": {
    "id": "iUq_-70iW1sN"
   },
   "source": [
    "## OPTICS (расширенный DBSCAN)\n",
    "\n",
    "Когда использовать:\n",
    "\n",
    "- Кластеры разной плотности\n",
    "- Автоматический подбор параметров\n",
    "\n",
    "Отличие от DBSCAN:\n",
    "\n",
    "- Не требует точного задания eps\n",
    "- Строит reachability-plot\n",
    "\n",
    "Как работает алгоритм\n",
    "- Строит «упорядоченный» список точек, где близкие в списке точки геометрически близки в данных.\n",
    "- Для каждой точки вычисляет «достижимое расстояние» — минимальный радиус, включающий min_samples соседей.\n",
    "- Кластеры — это «впадины» на графике достижимости (reachability plot)."
   ]
  },
  {
   "cell_type": "code",
   "execution_count": null,
   "metadata": {
    "colab": {
     "base_uri": "https://localhost:8080/",
     "height": 391
    },
    "id": "ehdLXRFeV6lY",
    "outputId": "62b0bb08-604d-49d6-8cf0-c1957489394c"
   },
   "outputs": [],
   "source": [
    "from sklearn.cluster import OPTICS\n",
    "X, _ = make_blobs(n_samples=300, centers=3, cluster_std=[0.5, 2.0, 0.8], random_state=42)\n",
    "\n",
    "clust = OPTICS(min_samples=10, xi=0.05)\n",
    "clust.fit(X)\n",
    "\n",
    "# Reachability plot\n",
    "plt.figure(figsize=(10, 4))\n",
    "plt.plot(clust.reachability_[clust.ordering_], 'o-')\n",
    "plt.title(\"Reachability Plot\")\n",
    "plt.show()"
   ]
  },
  {
   "cell_type": "code",
   "execution_count": null,
   "metadata": {
    "colab": {
     "base_uri": "https://localhost:8080/",
     "height": 452
    },
    "id": "6QfEBdu1XAN-",
    "outputId": "72859fe5-0faf-4dff-ffda-6e673d3e1f95"
   },
   "outputs": [],
   "source": [
    "plt.scatter(X[:, 0], X[:, 1], c=clust.labels_, cmap='viridis')\n",
    "plt.title(\"OPTICS\")\n",
    "plt.show()"
   ]
  },
  {
   "cell_type": "markdown",
   "metadata": {
    "id": "wLOkgy6D7GxQ"
   },
   "source": [
    "И вновь обратимся к нашим датасетам."
   ]
  },
  {
   "cell_type": "code",
   "execution_count": null,
   "metadata": {
    "id": "onrVLGpTauTc"
   },
   "outputs": [],
   "source": [
    "# Ваш код\n",
    "..."
   ]
  },
  {
   "cell_type": "markdown",
   "metadata": {},
   "source": [
    "## Выбор метода кластеризации\n",
    "\n",
    "https://scikit-learn.ru/stable/modules/clustering.html"
   ]
  },
  {
   "cell_type": "markdown",
   "metadata": {
    "id": "Zu_MlbBl7L4F"
   },
   "source": [
    "## Интерпретация кластеров\n",
    "\n",
    "Кластеризация — это не конец анализа, а начало. Найдя группы, мы должны понять:\n",
    "\n",
    "- Что их объединяет? (Какие признаки значимы)\n",
    "- Как их можно назвать? (Смысловая интерпретация)\n",
    "- Как использовать это в бизнесе/науке?"
   ]
  },
  {
   "cell_type": "markdown",
   "metadata": {
    "id": "-_bzGQMG7_Sz"
   },
   "source": [
    "### Анализ центроидов (для K-Means, GMM)\n",
    "\n",
    "Как работает:\n",
    "\n",
    "- Центроид — это усреднённая точка кластера в пространстве признаков.\n",
    "- Сравниваем значения признаков центроидов между кластерами."
   ]
  },
  {
   "cell_type": "code",
   "execution_count": null,
   "metadata": {
    "colab": {
     "base_uri": "https://localhost:8080/",
     "height": 175
    },
    "id": "RYFs8jEu7LFC",
    "outputId": "096b6aa3-05e4-470b-c7b1-9a8d76355e70"
   },
   "outputs": [],
   "source": [
    "gmm = GaussianMixture(n_components=3)\n",
    "gmm.fit(peng_norm.drop(['sex_MALE'], axis=1))\n",
    "clusters = gmm.predict(peng_norm.drop(['sex_MALE'], axis=1))\n",
    "\n",
    "peng['Кластер'] = clusters\n",
    "\n",
    "# Средние значения по кластерам\n",
    "peng.groupby('Кластер').mean()"
   ]
  },
  {
   "cell_type": "markdown",
   "metadata": {
    "id": "Id3hK-xl8EXR"
   },
   "source": [
    "Выберите метод кластеризации для второго набора данных и проанализируйте центроиды."
   ]
  },
  {
   "cell_type": "code",
   "execution_count": null,
   "metadata": {
    "id": "XicWJj1z73Hl"
   },
   "outputs": [],
   "source": [
    "# Ваш код\n",
    "..."
   ]
  },
  {
   "cell_type": "markdown",
   "metadata": {
    "id": "1zgvSHkQ9F4G"
   },
   "source": [
    "Важность признаков.\n",
    "\n",
    "ANOVA — определяет, какие признаки значимо различаются между кластерами. Возвращает значение F-статистики."
   ]
  },
  {
   "cell_type": "code",
   "execution_count": null,
   "metadata": {
    "id": "R6n0crjm8NAM"
   },
   "outputs": [],
   "source": [
    "from sklearn.feature_selection import f_oneway"
   ]
  },
  {
   "cell_type": "code",
   "execution_count": null,
   "metadata": {
    "colab": {
     "base_uri": "https://localhost:8080/"
    },
    "id": "HXjrkpMk8YRl",
    "outputId": "9ec36583-35f1-4892-9f58-dbe6ceac02aa"
   },
   "outputs": [],
   "source": [
    "f_values, p_values = f_oneway(peng[clusters==0], peng[clusters==1], peng[clusters==2])\n",
    "print(f_values)\n",
    "print(p_values)"
   ]
  },
  {
   "cell_type": "markdown",
   "metadata": {
    "id": "ho1SE9RU-DwU"
   },
   "source": [
    "SHAP для кластеризации — показывает вклад каждого признака в кластер."
   ]
  },
  {
   "cell_type": "code",
   "execution_count": null,
   "metadata": {
    "id": "jGrm9HJe9Owk"
   },
   "outputs": [],
   "source": [
    "import shap"
   ]
  },
  {
   "cell_type": "code",
   "execution_count": null,
   "metadata": {
    "colab": {
     "base_uri": "https://localhost:8080/",
     "height": 188,
     "referenced_widgets": [
      "83dd9ba1dd574f8d930bff6a10867f5b",
      "32acb069d5454f588a3916e8aa22df4d",
      "f7e5f0354335442a8382030615c8c60d",
      "340fc42e416e4abe9719724dee7737d8",
      "0bcb04de62cb458aa8f5875478aa2512",
      "33f0edb076b342b09fe87899bcb21c28",
      "4d91c0a62e594e9a8bf1045205df8f19",
      "d9ea0224777e4b11b03a3b7f980876d1",
      "d31b9c7608fe4943a1d68701951c3394",
      "2f88f5beb0c742519e5242ece52e4739",
      "99b8e6c69aef48179f11d40b59709e5e"
     ]
    },
    "id": "t0dFKxAw9wXL",
    "outputId": "29970c73-b588-45c9-95b0-8754b183d8df"
   },
   "outputs": [],
   "source": [
    "gmm = GaussianMixture(n_components=3).fit(peng_norm.drop(['sex_MALE'], axis=1))\n",
    "explainer = shap.KernelExplainer(gmm.predict, peng_norm.drop(['sex_MALE'], axis=1))\n",
    "shap_values = explainer.shap_values(peng_norm.drop(['sex_MALE'], axis=1))\n",
    "shap_values"
   ]
  },
  {
   "cell_type": "markdown",
   "metadata": {
    "id": "Jr9Yz2Hw_EPe"
   },
   "source": [
    "### Визуализация\n",
    "\n",
    "Parallel Coordinates — это как \"профиль\" каждого кластера. Линии, которые идут отдельно от других, — это ключевые различия."
   ]
  },
  {
   "cell_type": "code",
   "execution_count": null,
   "metadata": {
    "colab": {
     "base_uri": "https://localhost:8080/",
     "height": 447
    },
    "id": "b9dkNtnI9zH5",
    "outputId": "2600ce2e-f0d1-44b2-c755-b088799679c0"
   },
   "outputs": [],
   "source": [
    "gmm = GaussianMixture(n_components=3)\n",
    "gmm.fit(peng_norm.drop(['sex_MALE'], axis=1))\n",
    "clusters = gmm.predict(peng_norm.drop(['sex_MALE'], axis=1))\n",
    "\n",
    "peng_norm['Кластер'] = clusters\n",
    "pd.plotting.parallel_coordinates(peng_norm, 'Кластер')"
   ]
  },
  {
   "cell_type": "code",
   "execution_count": null,
   "metadata": {
    "id": "xu8M7MZp-mUc"
   },
   "outputs": [],
   "source": []
  }
 ],
 "metadata": {
  "colab": {
   "provenance": []
  },
  "kernelspec": {
   "display_name": "Python [conda env:base] *",
   "language": "python",
   "name": "conda-base-py"
  },
  "language_info": {
   "codemirror_mode": {
    "name": "ipython",
    "version": 3
   },
   "file_extension": ".py",
   "mimetype": "text/x-python",
   "name": "python",
   "nbconvert_exporter": "python",
   "pygments_lexer": "ipython3",
   "version": "3.9.18"
  },
  "widgets": {
   "application/vnd.jupyter.widget-state+json": {
    "0bcb04de62cb458aa8f5875478aa2512": {
     "model_module": "@jupyter-widgets/base",
     "model_module_version": "1.2.0",
     "model_name": "LayoutModel",
     "state": {
      "_model_module": "@jupyter-widgets/base",
      "_model_module_version": "1.2.0",
      "_model_name": "LayoutModel",
      "_view_count": null,
      "_view_module": "@jupyter-widgets/base",
      "_view_module_version": "1.2.0",
      "_view_name": "LayoutView",
      "align_content": null,
      "align_items": null,
      "align_self": null,
      "border": null,
      "bottom": null,
      "display": null,
      "flex": null,
      "flex_flow": null,
      "grid_area": null,
      "grid_auto_columns": null,
      "grid_auto_flow": null,
      "grid_auto_rows": null,
      "grid_column": null,
      "grid_gap": null,
      "grid_row": null,
      "grid_template_areas": null,
      "grid_template_columns": null,
      "grid_template_rows": null,
      "height": null,
      "justify_content": null,
      "justify_items": null,
      "left": null,
      "margin": null,
      "max_height": null,
      "max_width": null,
      "min_height": null,
      "min_width": null,
      "object_fit": null,
      "object_position": null,
      "order": null,
      "overflow": null,
      "overflow_x": null,
      "overflow_y": null,
      "padding": null,
      "right": null,
      "top": null,
      "visibility": null,
      "width": null
     }
    },
    "2f88f5beb0c742519e5242ece52e4739": {
     "model_module": "@jupyter-widgets/base",
     "model_module_version": "1.2.0",
     "model_name": "LayoutModel",
     "state": {
      "_model_module": "@jupyter-widgets/base",
      "_model_module_version": "1.2.0",
      "_model_name": "LayoutModel",
      "_view_count": null,
      "_view_module": "@jupyter-widgets/base",
      "_view_module_version": "1.2.0",
      "_view_name": "LayoutView",
      "align_content": null,
      "align_items": null,
      "align_self": null,
      "border": null,
      "bottom": null,
      "display": null,
      "flex": null,
      "flex_flow": null,
      "grid_area": null,
      "grid_auto_columns": null,
      "grid_auto_flow": null,
      "grid_auto_rows": null,
      "grid_column": null,
      "grid_gap": null,
      "grid_row": null,
      "grid_template_areas": null,
      "grid_template_columns": null,
      "grid_template_rows": null,
      "height": null,
      "justify_content": null,
      "justify_items": null,
      "left": null,
      "margin": null,
      "max_height": null,
      "max_width": null,
      "min_height": null,
      "min_width": null,
      "object_fit": null,
      "object_position": null,
      "order": null,
      "overflow": null,
      "overflow_x": null,
      "overflow_y": null,
      "padding": null,
      "right": null,
      "top": null,
      "visibility": null,
      "width": null
     }
    },
    "32acb069d5454f588a3916e8aa22df4d": {
     "model_module": "@jupyter-widgets/controls",
     "model_module_version": "1.5.0",
     "model_name": "HTMLModel",
     "state": {
      "_dom_classes": [],
      "_model_module": "@jupyter-widgets/controls",
      "_model_module_version": "1.5.0",
      "_model_name": "HTMLModel",
      "_view_count": null,
      "_view_module": "@jupyter-widgets/controls",
      "_view_module_version": "1.5.0",
      "_view_name": "HTMLView",
      "description": "",
      "description_tooltip": null,
      "layout": "IPY_MODEL_33f0edb076b342b09fe87899bcb21c28",
      "placeholder": "​",
      "style": "IPY_MODEL_4d91c0a62e594e9a8bf1045205df8f19",
      "value": "100%"
     }
    },
    "33f0edb076b342b09fe87899bcb21c28": {
     "model_module": "@jupyter-widgets/base",
     "model_module_version": "1.2.0",
     "model_name": "LayoutModel",
     "state": {
      "_model_module": "@jupyter-widgets/base",
      "_model_module_version": "1.2.0",
      "_model_name": "LayoutModel",
      "_view_count": null,
      "_view_module": "@jupyter-widgets/base",
      "_view_module_version": "1.2.0",
      "_view_name": "LayoutView",
      "align_content": null,
      "align_items": null,
      "align_self": null,
      "border": null,
      "bottom": null,
      "display": null,
      "flex": null,
      "flex_flow": null,
      "grid_area": null,
      "grid_auto_columns": null,
      "grid_auto_flow": null,
      "grid_auto_rows": null,
      "grid_column": null,
      "grid_gap": null,
      "grid_row": null,
      "grid_template_areas": null,
      "grid_template_columns": null,
      "grid_template_rows": null,
      "height": null,
      "justify_content": null,
      "justify_items": null,
      "left": null,
      "margin": null,
      "max_height": null,
      "max_width": null,
      "min_height": null,
      "min_width": null,
      "object_fit": null,
      "object_position": null,
      "order": null,
      "overflow": null,
      "overflow_x": null,
      "overflow_y": null,
      "padding": null,
      "right": null,
      "top": null,
      "visibility": null,
      "width": null
     }
    },
    "340fc42e416e4abe9719724dee7737d8": {
     "model_module": "@jupyter-widgets/controls",
     "model_module_version": "1.5.0",
     "model_name": "HTMLModel",
     "state": {
      "_dom_classes": [],
      "_model_module": "@jupyter-widgets/controls",
      "_model_module_version": "1.5.0",
      "_model_name": "HTMLModel",
      "_view_count": null,
      "_view_module": "@jupyter-widgets/controls",
      "_view_module_version": "1.5.0",
      "_view_name": "HTMLView",
      "description": "",
      "description_tooltip": null,
      "layout": "IPY_MODEL_2f88f5beb0c742519e5242ece52e4739",
      "placeholder": "​",
      "style": "IPY_MODEL_99b8e6c69aef48179f11d40b59709e5e",
      "value": " 332/332 [00:02&lt;00:00, 227.31it/s]"
     }
    },
    "4d91c0a62e594e9a8bf1045205df8f19": {
     "model_module": "@jupyter-widgets/controls",
     "model_module_version": "1.5.0",
     "model_name": "DescriptionStyleModel",
     "state": {
      "_model_module": "@jupyter-widgets/controls",
      "_model_module_version": "1.5.0",
      "_model_name": "DescriptionStyleModel",
      "_view_count": null,
      "_view_module": "@jupyter-widgets/base",
      "_view_module_version": "1.2.0",
      "_view_name": "StyleView",
      "description_width": ""
     }
    },
    "83dd9ba1dd574f8d930bff6a10867f5b": {
     "model_module": "@jupyter-widgets/controls",
     "model_module_version": "1.5.0",
     "model_name": "HBoxModel",
     "state": {
      "_dom_classes": [],
      "_model_module": "@jupyter-widgets/controls",
      "_model_module_version": "1.5.0",
      "_model_name": "HBoxModel",
      "_view_count": null,
      "_view_module": "@jupyter-widgets/controls",
      "_view_module_version": "1.5.0",
      "_view_name": "HBoxView",
      "box_style": "",
      "children": [
       "IPY_MODEL_32acb069d5454f588a3916e8aa22df4d",
       "IPY_MODEL_f7e5f0354335442a8382030615c8c60d",
       "IPY_MODEL_340fc42e416e4abe9719724dee7737d8"
      ],
      "layout": "IPY_MODEL_0bcb04de62cb458aa8f5875478aa2512"
     }
    },
    "99b8e6c69aef48179f11d40b59709e5e": {
     "model_module": "@jupyter-widgets/controls",
     "model_module_version": "1.5.0",
     "model_name": "DescriptionStyleModel",
     "state": {
      "_model_module": "@jupyter-widgets/controls",
      "_model_module_version": "1.5.0",
      "_model_name": "DescriptionStyleModel",
      "_view_count": null,
      "_view_module": "@jupyter-widgets/base",
      "_view_module_version": "1.2.0",
      "_view_name": "StyleView",
      "description_width": ""
     }
    },
    "d31b9c7608fe4943a1d68701951c3394": {
     "model_module": "@jupyter-widgets/controls",
     "model_module_version": "1.5.0",
     "model_name": "ProgressStyleModel",
     "state": {
      "_model_module": "@jupyter-widgets/controls",
      "_model_module_version": "1.5.0",
      "_model_name": "ProgressStyleModel",
      "_view_count": null,
      "_view_module": "@jupyter-widgets/base",
      "_view_module_version": "1.2.0",
      "_view_name": "StyleView",
      "bar_color": null,
      "description_width": ""
     }
    },
    "d9ea0224777e4b11b03a3b7f980876d1": {
     "model_module": "@jupyter-widgets/base",
     "model_module_version": "1.2.0",
     "model_name": "LayoutModel",
     "state": {
      "_model_module": "@jupyter-widgets/base",
      "_model_module_version": "1.2.0",
      "_model_name": "LayoutModel",
      "_view_count": null,
      "_view_module": "@jupyter-widgets/base",
      "_view_module_version": "1.2.0",
      "_view_name": "LayoutView",
      "align_content": null,
      "align_items": null,
      "align_self": null,
      "border": null,
      "bottom": null,
      "display": null,
      "flex": null,
      "flex_flow": null,
      "grid_area": null,
      "grid_auto_columns": null,
      "grid_auto_flow": null,
      "grid_auto_rows": null,
      "grid_column": null,
      "grid_gap": null,
      "grid_row": null,
      "grid_template_areas": null,
      "grid_template_columns": null,
      "grid_template_rows": null,
      "height": null,
      "justify_content": null,
      "justify_items": null,
      "left": null,
      "margin": null,
      "max_height": null,
      "max_width": null,
      "min_height": null,
      "min_width": null,
      "object_fit": null,
      "object_position": null,
      "order": null,
      "overflow": null,
      "overflow_x": null,
      "overflow_y": null,
      "padding": null,
      "right": null,
      "top": null,
      "visibility": null,
      "width": null
     }
    },
    "f7e5f0354335442a8382030615c8c60d": {
     "model_module": "@jupyter-widgets/controls",
     "model_module_version": "1.5.0",
     "model_name": "FloatProgressModel",
     "state": {
      "_dom_classes": [],
      "_model_module": "@jupyter-widgets/controls",
      "_model_module_version": "1.5.0",
      "_model_name": "FloatProgressModel",
      "_view_count": null,
      "_view_module": "@jupyter-widgets/controls",
      "_view_module_version": "1.5.0",
      "_view_name": "ProgressView",
      "bar_style": "success",
      "description": "",
      "description_tooltip": null,
      "layout": "IPY_MODEL_d9ea0224777e4b11b03a3b7f980876d1",
      "max": 332,
      "min": 0,
      "orientation": "horizontal",
      "style": "IPY_MODEL_d31b9c7608fe4943a1d68701951c3394",
      "value": 332
     }
    }
   }
  }
 },
 "nbformat": 4,
 "nbformat_minor": 4
}
