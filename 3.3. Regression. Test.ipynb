{
 "cells": [
  {
   "cell_type": "markdown",
   "id": "93bb31bf-034d-459b-992f-99f697c0912e",
   "metadata": {},
   "source": [
    "# Работа по теме \"Численное прогнозирование\""
   ]
  },
  {
   "cell_type": "markdown",
   "id": "8f3c438a-d659-4c30-80a7-2a433453d480",
   "metadata": {},
   "source": [
    "## Описание\n",
    "\n",
    "Работа предполагает самостоятельное исследование данных и построение регрессионных моделей.\n",
    "\n",
    "Основная задача работы - научиться работать с методами численного прогнозирования, настраивать и отбирать лучшие модели.\n",
    "\n",
    "Предлагается один набор данных.\n",
    "\n",
    "Примерные критерии оценки:\n",
    "- представленные данные изучены и описаны;\n",
    "- данные предобработаны при необходимости, разделены на выборки;\n",
    "- верно проведена обработка категориальных данных;\n",
    "- рассмотрено не менее трех различных методов регрессии;\n",
    "- создаваемые модели настроены для получения наилучших результатов;\n",
    "- рассмотрены различные метрики для оценки, при описании результатов метрики верно интерпретированы.\n",
    "\n",
    "В результате необходимо получить наилучшую модель численного прогнозирования, при этом основную метрику разрешается выбрать самостоятельно, объяснив свой выбор. Также должен быть показан весь процесс выбора и настройки моделей."
   ]
  },
  {
   "cell_type": "markdown",
   "id": "b97195a5-4222-4fb6-877a-105fd9943213",
   "metadata": {},
   "source": [
    "## Импорт библиотек"
   ]
  },
  {
   "cell_type": "code",
   "execution_count": null,
   "id": "3a0845ad-9e30-4d2e-9e3e-1476539273c4",
   "metadata": {},
   "outputs": [],
   "source": []
  },
  {
   "cell_type": "markdown",
   "id": "f824bce6-9a69-4a77-a25f-d478009d32fd",
   "metadata": {},
   "source": [
    "# Анализ доходов домохозяйств\n",
    "\n",
    "Набор данных `household_income.csv`.\n",
    "\n",
    "Описание данных:\n",
    "- Age: Age of the primary household member (18 to 70 years).\n",
    "- Education Level: Highest education level attained (High School, Bachelor's, Master's, Doctorate).\n",
    "- Occupation: Type of occupation (Healthcare, Education, Technology, Finance, Others).\n",
    "- Number of Dependents: Number of dependents in the household (0 to 5).\n",
    "- Location: Residential location (Urban, Suburban, Rural).\n",
    "- Work Experience: Years of work experience (0 to 50 years).\n",
    "- Marital Status: Marital status of the primary household member (Single, Married, Divorced).\n",
    "- Employment Status: Employment status of the primary household member (Full-time, Part-time, Self-employed).\n",
    "- Household Size: Total number of individuals living in the household (1 to 7).\n",
    "- Homeownership Status: Homeownership status (Own, Rent).\n",
    "- Type of Housing: Type of housing (Apartment, Single-family home, Townhouse).\n",
    "- Gender: Gender of the primary household member (Male, Female).\n",
    "- Primary Mode of Transportation: Primary mode of transportation used by the household member\n",
    "(Car, Public transit, Biking, Walking).\n",
    "- Income: Actual annual household income, derived from a combination of features\n",
    "with added noise. Unit USD\n",
    "\n",
    "Целевая переменная - Income.\n",
    "\n",
    "Требуется построить наилучшую модель для прогнозирования доходов домохозяйств."
   ]
  },
  {
   "cell_type": "code",
   "execution_count": null,
   "id": "c4535e93-6fc2-4953-9c24-7085f0347f4f",
   "metadata": {},
   "outputs": [],
   "source": []
  },
  {
   "cell_type": "markdown",
   "id": "1eb5bf34-78c8-422c-a80f-70e96a5e644d",
   "metadata": {},
   "source": [
    "# Выводы\n",
    "\n",
    "Ключевые выводы по задачам."
   ]
  },
  {
   "cell_type": "code",
   "execution_count": null,
   "id": "df119928-7a5a-4487-8406-c1c45bc80c77",
   "metadata": {},
   "outputs": [],
   "source": []
  }
 ],
 "metadata": {
  "kernelspec": {
   "display_name": "Python [conda env:base] *",
   "language": "python",
   "name": "conda-base-py"
  },
  "language_info": {
   "codemirror_mode": {
    "name": "ipython",
    "version": 3
   },
   "file_extension": ".py",
   "mimetype": "text/x-python",
   "name": "python",
   "nbconvert_exporter": "python",
   "pygments_lexer": "ipython3",
   "version": "3.9.18"
  }
 },
 "nbformat": 4,
 "nbformat_minor": 5
}
