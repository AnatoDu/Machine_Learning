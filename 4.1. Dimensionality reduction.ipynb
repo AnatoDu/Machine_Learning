{
 "cells": [
  {
   "cell_type": "markdown",
   "id": "a078a5c7-bb76-4c52-90a4-7a91e7136138",
   "metadata": {},
   "source": [
    "# Dimensionality reduction\n",
    "\n",
    "---\n",
    "Author: Anatoliy Durkin\n",
    "\n",
    "Updated: 14.04.2025\n",
    "\n",
    "---\n",
    "В ноутбуке рассмотрены основные методы снижения размерности данных."
   ]
  },
  {
   "cell_type": "markdown",
   "id": "9819dc15-fb02-40e0-99fa-78a1122249f4",
   "metadata": {},
   "source": [
    "В реальных данных часто сотни или тысячи признаков (например, изображения, тексты, геномные данные). Проблемы:\n",
    "\n",
    "- Проклятие размерности: При большом числе признаков данные становятся разреженными, модели хуже работают.\n",
    "- Шум и избыточность: Многие признаки коррелируют или не несут полезной информации.\n",
    "- Визуализация: Человек не может воспринимать >3 измерений.\n",
    "\n",
    "Основные подходы\n",
    "- Линейные методы: PCA, LDA.\n",
    "- Нелинейные методы: t-SNE, UMAP."
   ]
  },
  {
   "cell_type": "code",
   "execution_count": null,
   "id": "4d8e1a77-8b73-40ad-ab27-753df72506d7",
   "metadata": {},
   "outputs": [],
   "source": [
    "import pandas as pd\n",
    "import numpy as np\n",
    "import matplotlib.pyplot as plt\n",
    "import seaborn as sns\n",
    "import plotly.graph_objects as go\n",
    "from sklearn.preprocessing import StandardScaler"
   ]
  },
  {
   "cell_type": "markdown",
   "id": "8e9af8df-9e56-46af-8e8f-39e0165a00b2",
   "metadata": {},
   "source": [
    "# Линейные методы"
   ]
  },
  {
   "cell_type": "markdown",
   "id": "ab0d00cc-3809-4c85-a882-bf91114ae7e1",
   "metadata": {},
   "source": [
    "## Метод главных компонент (PCA)"
   ]
  },
  {
   "cell_type": "code",
   "execution_count": null,
   "id": "29ae9d51-9a06-4778-ae45-1e8b59d64188",
   "metadata": {},
   "outputs": [],
   "source": [
    "peng = pd.read_csv('penguins.csv')"
   ]
  },
  {
   "cell_type": "code",
   "execution_count": null,
   "id": "566d57e9-6062-4c0f-846c-e85a3d3b2427",
   "metadata": {},
   "outputs": [],
   "source": [
    "peng = peng[peng['sex']!='.']\n",
    "peng = peng[(peng['flipper_length_mm']<1000) & (peng['flipper_length_mm']>100)]\n",
    "peng = peng.dropna().reset_index(drop=True)"
   ]
  },
  {
   "cell_type": "code",
   "execution_count": null,
   "id": "0ad6eb00-7627-422d-a6ea-7756bde773b7",
   "metadata": {},
   "outputs": [],
   "source": [
    "peng.head()"
   ]
  },
  {
   "cell_type": "code",
   "execution_count": null,
   "id": "95d8e46b-9eda-459c-af02-f1a053ba1032",
   "metadata": {},
   "outputs": [],
   "source": [
    "sns.pairplot(peng, hue='sex')"
   ]
  },
  {
   "cell_type": "code",
   "execution_count": null,
   "id": "8b7bd93b-1b73-4867-8866-d6339470661e",
   "metadata": {},
   "outputs": [],
   "source": [
    "sns.heatmap(peng.corr(), annot=True, cmap='coolwarm', center=0)"
   ]
  },
  {
   "cell_type": "code",
   "execution_count": null,
   "id": "2896625f-d92d-4f30-8ad5-1256f24bbb2f",
   "metadata": {},
   "outputs": [],
   "source": [
    "X_peng = peng.drop(['sex'], axis=1)\n",
    "X_peng = StandardScaler().fit_transform(X_peng)\n",
    "y_peng = pd.get_dummies(peng['sex'], drop_first=True)"
   ]
  },
  {
   "cell_type": "code",
   "execution_count": null,
   "id": "282f16ff-f13c-4f70-b881-2d8a7d7a5293",
   "metadata": {},
   "outputs": [],
   "source": [
    "y_peng.head()"
   ]
  },
  {
   "cell_type": "code",
   "execution_count": null,
   "id": "13c287e4-f2f2-4500-a943-0037df23a5cd",
   "metadata": {},
   "outputs": [],
   "source": [
    "from sklearn.decomposition import PCA"
   ]
  },
  {
   "cell_type": "code",
   "execution_count": null,
   "id": "42297d39-4dea-4d90-8193-30c1ac84ab8a",
   "metadata": {},
   "outputs": [],
   "source": [
    "pca = PCA(n_components=2)\n",
    "X_peng_pca = pca.fit_transform(X_peng)"
   ]
  },
  {
   "cell_type": "code",
   "execution_count": null,
   "id": "e89ecb60-e7f5-4389-8296-efb4292e4e28",
   "metadata": {},
   "outputs": [],
   "source": [
    "pca.components_"
   ]
  },
  {
   "cell_type": "code",
   "execution_count": null,
   "id": "6b48e845-dc49-4c4c-ad02-7a6555610701",
   "metadata": {},
   "outputs": [],
   "source": [
    "pca.explained_variance_ratio_"
   ]
  },
  {
   "cell_type": "code",
   "execution_count": null,
   "id": "5e28a9c3-35ea-4c1d-ad09-6ea322fd679b",
   "metadata": {},
   "outputs": [],
   "source": [
    "sum(pca.explained_variance_ratio_)"
   ]
  },
  {
   "cell_type": "code",
   "execution_count": null,
   "id": "7d8815bd-0a7d-4f06-b903-c9b81dbf6171",
   "metadata": {},
   "outputs": [],
   "source": [
    "plt.scatter(X_peng_pca[:, 0], X_peng_pca[:, 1], c=y_peng.values)\n",
    "plt.colorbar()\n",
    "plt.xlabel(\"PC1 (Дисперсия: {:.2%})\".format(pca.explained_variance_ratio_[0]))\n",
    "plt.ylabel(\"PC2 (Дисперсия: {:.2%})\".format(pca.explained_variance_ratio_[1]))"
   ]
  },
  {
   "cell_type": "markdown",
   "id": "2acfa4af-3059-49b1-8902-9db6df49c1e6",
   "metadata": {},
   "source": [
    "Выбрать оптимальное число компонент можно с использованием метода \"локтя\"."
   ]
  },
  {
   "cell_type": "code",
   "execution_count": null,
   "id": "0349c501-4b08-4f56-8bce-f7416e0ae3d4",
   "metadata": {},
   "outputs": [],
   "source": [
    "pca_full = PCA().fit(X_peng)\n",
    "plt.plot(np.cumsum(pca_full.explained_variance_ratio_))\n",
    "plt.axhline(y=0.95, color='r', linestyle='--')  # 95% дисперсии\n",
    "plt.xticks(range(X_peng.shape[1]), range(1, X_peng.shape[1]+1))\n",
    "plt.xlabel('Компонент')\n",
    "plt.ylabel('Объясненная дисперсия')\n",
    "plt.grid()"
   ]
  },
  {
   "cell_type": "code",
   "execution_count": null,
   "id": "95c5c4e2-1b8a-4c75-8fa5-c69bed0ea8e2",
   "metadata": {},
   "outputs": [],
   "source": []
  },
  {
   "cell_type": "code",
   "execution_count": null,
   "id": "4f1e372b-5d1f-4655-9a8a-22e4266d67ee",
   "metadata": {},
   "outputs": [],
   "source": [
    "pca = PCA(n_components=3)\n",
    "X_peng_pca = pca.fit_transform(X_peng)"
   ]
  },
  {
   "cell_type": "code",
   "execution_count": null,
   "id": "ef7a747d-116f-49f7-bfe5-23d294f80b3a",
   "metadata": {},
   "outputs": [],
   "source": [
    "fig = go.Figure(data=[go.Scatter3d(x=X_peng_pca[:, 0], y=X_peng_pca[:, 1], z=X_peng_pca[:, 2],\n",
    "                                   mode='markers', marker=dict(color=y_peng.values))],\n",
    "               layout=dict(height=700))\n",
    "fig.show()"
   ]
  },
  {
   "cell_type": "code",
   "execution_count": null,
   "id": "d728f6b1-8978-4f30-bbd1-15ad9c4ebcd9",
   "metadata": {},
   "outputs": [],
   "source": []
  },
  {
   "cell_type": "code",
   "execution_count": null,
   "id": "253dfa18-7c6d-4bbb-b7bc-6a4da4c60394",
   "metadata": {},
   "outputs": [],
   "source": [
    "cancer = pd.read_csv('breast_cancer.csv')"
   ]
  },
  {
   "cell_type": "code",
   "execution_count": null,
   "id": "f1b0642f-871b-4889-ada9-56c7c9204466",
   "metadata": {},
   "outputs": [],
   "source": [
    "cancer"
   ]
  },
  {
   "cell_type": "markdown",
   "id": "c93096c1-d8fb-441e-b4c5-05f5b01be583",
   "metadata": {},
   "source": [
    "Разделите данные на X и y, а затем воспользуйтесь методом локтя для определения оптимального количество компонент."
   ]
  },
  {
   "cell_type": "code",
   "execution_count": null,
   "id": "738c3155-53f7-4ae7-91c6-5b857f5b7905",
   "metadata": {},
   "outputs": [],
   "source": [
    "# Ваш код\n",
    "..."
   ]
  },
  {
   "cell_type": "code",
   "execution_count": null,
   "id": "2e3c986d-6e5f-4773-921f-81c0707a4e20",
   "metadata": {},
   "outputs": [],
   "source": []
  },
  {
   "cell_type": "markdown",
   "id": "a28583d1-2a6e-4f97-9896-463e49ddc33f",
   "metadata": {},
   "source": [
    "## Линейный дискриминантный анализ (LDA)\n",
    "\n",
    "Отличие от PCA: Учитывает метки классов для максимизации межклассового расстояния.\n",
    "\n",
    "Когда использовать: Когда классы хорошо разделимы."
   ]
  },
  {
   "cell_type": "code",
   "execution_count": null,
   "id": "a060e6df-1ed8-4403-9196-953f59cfb3ef",
   "metadata": {},
   "outputs": [],
   "source": [
    "stud = pd.read_csv('Student_performance_data.csv', index_col=0)"
   ]
  },
  {
   "cell_type": "code",
   "execution_count": null,
   "id": "4f40dc21-aba0-4140-83b3-857bb36184ed",
   "metadata": {},
   "outputs": [],
   "source": []
  },
  {
   "cell_type": "code",
   "execution_count": null,
   "id": "883f1f13-b7da-4c36-9c8e-891d8e13bc76",
   "metadata": {},
   "outputs": [],
   "source": [
    "stud"
   ]
  },
  {
   "cell_type": "code",
   "execution_count": null,
   "id": "fd5073bb-5db9-4aa5-857a-70dd76647de3",
   "metadata": {},
   "outputs": [],
   "source": [
    "features = stud.drop(['GradeClass'], axis=1)\n",
    "features = StandardScaler().fit_transform(features)\n",
    "target = stud['GradeClass']"
   ]
  },
  {
   "cell_type": "code",
   "execution_count": null,
   "id": "19dd6753-e790-4f60-b9da-7cf0062c785c",
   "metadata": {},
   "outputs": [],
   "source": []
  },
  {
   "cell_type": "code",
   "execution_count": null,
   "id": "15032d75-f12a-418b-849c-54b1bbb58a3c",
   "metadata": {},
   "outputs": [],
   "source": [
    "from sklearn.discriminant_analysis import LinearDiscriminantAnalysis"
   ]
  },
  {
   "cell_type": "code",
   "execution_count": null,
   "id": "e284bd07-8625-4814-aeed-2138918b5e17",
   "metadata": {},
   "outputs": [],
   "source": [
    "lda = LinearDiscriminantAnalysis(n_components=2)\n",
    "X_lda = lda.fit_transform(features, target)"
   ]
  },
  {
   "cell_type": "code",
   "execution_count": null,
   "id": "85cea2a7-5a38-4dc6-ac36-745ca6a72920",
   "metadata": {},
   "outputs": [],
   "source": [
    "pca = PCA(n_components=2)\n",
    "X_pca = pca.fit_transform(features)"
   ]
  },
  {
   "cell_type": "code",
   "execution_count": null,
   "id": "1e569718-659c-4ec5-ace6-3652f82ab850",
   "metadata": {},
   "outputs": [],
   "source": [
    "fig, (ax1, ax2) = plt.subplots(1, 2, figsize=(12, 5))\n",
    "ax1.scatter(X_pca[:, 0], X_pca[:, 1], c=target)\n",
    "ax1.set_title(\"PCA\")\n",
    "ax2.scatter(X_lda[:, 0], X_lda[:, 1], c=target)\n",
    "ax2.set_title(\"LDA\")"
   ]
  },
  {
   "cell_type": "code",
   "execution_count": null,
   "id": "e2aac439-8cbf-430a-b98c-6e8457b5a14e",
   "metadata": {},
   "outputs": [],
   "source": []
  },
  {
   "cell_type": "markdown",
   "id": "03710304-fa59-4727-bbe7-36e643587cae",
   "metadata": {},
   "source": [
    "# Нелинейные методы"
   ]
  },
  {
   "cell_type": "markdown",
   "id": "2933255c-79bd-40df-80cc-b5b8afd7d4dd",
   "metadata": {},
   "source": [
    "## t-SNE"
   ]
  },
  {
   "cell_type": "markdown",
   "id": "6f6ebc05-30de-4d50-8273-1740b3d477cb",
   "metadata": {},
   "source": [
    "Идея: Сохраняет локальные расстояния между точками.\n",
    "\n",
    "Ключевые параметры:\n",
    "- `perplexity`: Баланс между локальной/глобальной структурой (обычно 5-50).\n",
    "- `random_state`: Для воспроизводимости.\n",
    "\n",
    "t-SNE требует нормализованных данных."
   ]
  },
  {
   "cell_type": "code",
   "execution_count": null,
   "id": "cec96269-72bf-43f0-823f-b3fac3018910",
   "metadata": {},
   "outputs": [],
   "source": [
    "from sklearn.manifold import TSNE"
   ]
  },
  {
   "cell_type": "code",
   "execution_count": null,
   "id": "fa91ba42-d4b0-4ea4-9269-cf5c0fc2105b",
   "metadata": {},
   "outputs": [],
   "source": [
    "tsne = TSNE(n_components=2, perplexity=30, random_state=42)\n",
    "X_tsne = tsne.fit_transform(X_peng)"
   ]
  },
  {
   "cell_type": "code",
   "execution_count": null,
   "id": "e18472c4-4ec8-481b-8b9a-b9dbff970866",
   "metadata": {},
   "outputs": [],
   "source": [
    "plt.scatter(X_tsne[:, 0], X_tsne[:, 1], c=y_peng.values)\n",
    "plt.colorbar()\n",
    "plt.title(\"t-SNE: Penguins dataset (perplexity=30)\")"
   ]
  },
  {
   "cell_type": "code",
   "execution_count": null,
   "id": "72dc4d2a-3925-45d3-82b1-83c6d920cb02",
   "metadata": {},
   "outputs": [],
   "source": []
  },
  {
   "cell_type": "markdown",
   "id": "ea78be7d-8d9c-47f2-bd06-91e860fa4f1e",
   "metadata": {},
   "source": [
    "## UMAP"
   ]
  },
  {
   "cell_type": "markdown",
   "id": "a5484512-6167-4689-a6e3-53a9486ebd91",
   "metadata": {},
   "source": [
    "Если библиотека отсутсвует, ее можно установить:"
   ]
  },
  {
   "cell_type": "code",
   "execution_count": null,
   "id": "2b4d01dd-18e7-47d8-8668-95c5bb594e66",
   "metadata": {},
   "outputs": [],
   "source": [
    "# !pip install umap-learn"
   ]
  },
  {
   "cell_type": "code",
   "execution_count": null,
   "id": "23a8324b-1386-49d8-9945-15155e1c5ce4",
   "metadata": {},
   "outputs": [],
   "source": [
    "import umap.umap_ as umap"
   ]
  },
  {
   "cell_type": "markdown",
   "id": "dfbb1639-ac26-46a3-a513-a94e3e06d417",
   "metadata": {},
   "source": [
    "Преимущества перед t-SNE:\n",
    "\n",
    "- Быстрее (оптимизированный алгоритм).\n",
    "- Лучше сохраняет глобальную структуру.\n",
    "\n",
    "Ключевые параметры:\n",
    "- `n_neighbors`: Аналог perplexity (обычно 5-50).\n",
    "- `min_dist`: Минимальное расстояние между точками (0.1-0.5)."
   ]
  },
  {
   "cell_type": "code",
   "execution_count": null,
   "id": "704bc99a-0f75-4b84-b5e1-cb75a9137e2e",
   "metadata": {},
   "outputs": [],
   "source": [
    "umap_model = umap.UMAP(n_components=2, n_neighbors=15, min_dist=0.1, random_state=42)\n",
    "X_umap = umap_model.fit_transform(X_peng)"
   ]
  },
  {
   "cell_type": "code",
   "execution_count": null,
   "id": "f18d4dca-a136-438c-8e72-546eb71a1f73",
   "metadata": {},
   "outputs": [],
   "source": [
    "plt.scatter(X_umap[:, 0], X_umap[:, 1], c=y_peng.values)\n",
    "plt.colorbar()\n",
    "plt.title(\"UMAP: Penguins dataset\")"
   ]
  },
  {
   "cell_type": "code",
   "execution_count": null,
   "id": "70269878-efa4-478b-91c8-764f151b3f79",
   "metadata": {},
   "outputs": [],
   "source": []
  }
 ],
 "metadata": {
  "kernelspec": {
   "display_name": "Python [conda env:base] *",
   "language": "python",
   "name": "conda-base-py"
  },
  "language_info": {
   "codemirror_mode": {
    "name": "ipython",
    "version": 3
   },
   "file_extension": ".py",
   "mimetype": "text/x-python",
   "name": "python",
   "nbconvert_exporter": "python",
   "pygments_lexer": "ipython3",
   "version": "3.9.18"
  }
 },
 "nbformat": 4,
 "nbformat_minor": 5
}
