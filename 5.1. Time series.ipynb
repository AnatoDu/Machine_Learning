{
 "cells": [
  {
   "cell_type": "markdown",
   "id": "49019d41-2084-4443-98ba-2898e384a81b",
   "metadata": {},
   "source": [
    "# Time Series\n",
    "\n",
    "---\n",
    "Author: Anatoliy Durkin\n",
    "\n",
    "Updated: 18.05.2025\n",
    "\n",
    "---\n",
    "В данном ноутбуке рассмотрены методы работы с временными рядами"
   ]
  },
  {
   "cell_type": "code",
   "execution_count": null,
   "id": "386cbce3-54fd-4412-bcce-93e2c9061d4b",
   "metadata": {},
   "outputs": [],
   "source": [
    "import pandas as pd\n",
    "import seaborn as sns\n",
    "import matplotlib.pyplot as plt\n",
    "from sklearn.model_selection import train_test_split"
   ]
  },
  {
   "cell_type": "code",
   "execution_count": null,
   "id": "ec205638-07c3-4d56-9ae7-edfc973ec695",
   "metadata": {},
   "outputs": [],
   "source": [
    "df_train = pd.read_csv('time_series_train.csv')\n",
    "df_test = pd.read_csv('time_series_test.csv')"
   ]
  },
  {
   "cell_type": "code",
   "execution_count": null,
   "id": "034bb100-5a4b-4afa-8b3e-ab54d81c1f76",
   "metadata": {},
   "outputs": [],
   "source": [
    "df_train"
   ]
  },
  {
   "cell_type": "code",
   "execution_count": null,
   "id": "3e36ba62-707c-4dc9-b210-df1ede154d6f",
   "metadata": {},
   "outputs": [],
   "source": [
    "df_test"
   ]
  },
  {
   "cell_type": "code",
   "execution_count": null,
   "id": "26eda64f-7d5b-4a18-8802-287d9665ba8f",
   "metadata": {},
   "outputs": [],
   "source": [
    "df_train.info()"
   ]
  },
  {
   "cell_type": "markdown",
   "id": "3b985cd8-1be0-4d60-9cf2-2443ed8d2717",
   "metadata": {},
   "source": [
    "## Работа с датой"
   ]
  },
  {
   "cell_type": "code",
   "execution_count": null,
   "id": "3f78aea8-f9b6-4113-a963-2b309f9af58e",
   "metadata": {},
   "outputs": [],
   "source": [
    "pd.to_datetime('2025-02-15T12:30:45', format='%Y-%m-%dT%H:%M:%S')"
   ]
  },
  {
   "cell_type": "code",
   "execution_count": null,
   "id": "2a5af8ab-fe41-4f2f-919b-84db7eea6399",
   "metadata": {},
   "outputs": [],
   "source": [
    "pd.to_datetime('2025-02-15T12:30:45', format='%Y-%m-%dT%H:%M:%S') + pd.Timedelta(days=3)"
   ]
  },
  {
   "cell_type": "code",
   "execution_count": null,
   "id": "b6fd9602-a9c8-485c-aea3-99d62636addf",
   "metadata": {},
   "outputs": [],
   "source": [
    "pd.to_datetime('2025-02-15 12:30:45') - pd.to_datetime('2025-02-11 22:10:15')"
   ]
  },
  {
   "cell_type": "code",
   "execution_count": null,
   "id": "106e3951-6340-497b-85ac-e21016dccbc0",
   "metadata": {},
   "outputs": [],
   "source": []
  },
  {
   "cell_type": "code",
   "execution_count": null,
   "id": "0f9e908c-8246-4a7f-a147-32818cf6a44c",
   "metadata": {},
   "outputs": [],
   "source": []
  },
  {
   "cell_type": "code",
   "execution_count": null,
   "id": "3f872215-c96f-423e-bd67-2783b3e96a4e",
   "metadata": {},
   "outputs": [],
   "source": [
    "pd.to_datetime(df_train['Date'], format='%Y-%m-%d')"
   ]
  },
  {
   "cell_type": "code",
   "execution_count": null,
   "id": "5579077b-d076-42a8-92c7-64287557737c",
   "metadata": {},
   "outputs": [],
   "source": [
    "df_train['Date'] = pd.to_datetime(df_train['Date'], format='%Y-%m-%d')"
   ]
  },
  {
   "cell_type": "code",
   "execution_count": null,
   "id": "1ce368f1-7439-484b-b6b2-c08a7f205961",
   "metadata": {},
   "outputs": [],
   "source": [
    "df_train.info()"
   ]
  },
  {
   "cell_type": "code",
   "execution_count": null,
   "id": "c8dc1aa2-71a9-4d38-84f3-34886f4bf417",
   "metadata": {},
   "outputs": [],
   "source": [
    "df_train.set_index('Date', inplace=True)"
   ]
  },
  {
   "cell_type": "code",
   "execution_count": null,
   "id": "5f9b9483-3d3a-4d9f-b363-3bee5d03cdd0",
   "metadata": {},
   "outputs": [],
   "source": [
    "df_train.head()"
   ]
  },
  {
   "cell_type": "code",
   "execution_count": null,
   "id": "7055ce2b-3224-4702-befb-96ef615be3a2",
   "metadata": {},
   "outputs": [],
   "source": [
    "df_test['Date'] = pd.to_datetime(df_test['Date'], format='%Y-%m-%d')\n",
    "df_test.set_index('Date', inplace=True)"
   ]
  },
  {
   "cell_type": "code",
   "execution_count": null,
   "id": "6327fbe4-7f85-4980-90e7-6939d86bc74f",
   "metadata": {},
   "outputs": [],
   "source": [
    "df_train.index.is_monotonic_increasing"
   ]
  },
  {
   "cell_type": "code",
   "execution_count": null,
   "id": "b7a08de9-c09e-4ea0-80ad-52a94ba35cf1",
   "metadata": {},
   "outputs": [],
   "source": [
    "df_train.resample('1w').sum()"
   ]
  },
  {
   "cell_type": "code",
   "execution_count": null,
   "id": "a6641d2b-9735-4c33-908a-b3f4ad411d2d",
   "metadata": {},
   "outputs": [],
   "source": [
    "df1, df2 = train_test_split(df_train, test_size=0.2, shuffle=False)"
   ]
  },
  {
   "cell_type": "code",
   "execution_count": null,
   "id": "f58404de-e5c9-4d47-a97f-116ed4d09dfb",
   "metadata": {},
   "outputs": [],
   "source": [
    "df1"
   ]
  },
  {
   "cell_type": "code",
   "execution_count": null,
   "id": "301fd7f3-df00-4051-ae2b-6819dd714bac",
   "metadata": {},
   "outputs": [],
   "source": [
    "df2"
   ]
  },
  {
   "cell_type": "markdown",
   "id": "4852559e-baf3-4a03-ad3d-ba138f2fe4da",
   "metadata": {},
   "source": [
    "## Данные\n",
    "\n",
    "Выберем магазин и товар, которые в дальнейшем будем рассматривать."
   ]
  },
  {
   "cell_type": "code",
   "execution_count": null,
   "id": "7883d0fa-8263-4997-b6ff-6aded95edc67",
   "metadata": {},
   "outputs": [],
   "source": [
    "df_train[(df_train['store']==0)&(df_train['product']==0)]['number_sold'].plot()"
   ]
  },
  {
   "cell_type": "code",
   "execution_count": null,
   "id": "6ab56296-b87c-4b76-aea3-d5a634c8b867",
   "metadata": {},
   "outputs": [],
   "source": [
    "train = df_train[(df_train['store']==0)&(df_train['product']==0)].drop(['store','product'], axis=1)\n",
    "test = df_test[(df_test['store']==0)&(df_test['product']==0)].drop(['store','product'], axis=1)"
   ]
  },
  {
   "cell_type": "markdown",
   "id": "c727460e-34da-4daf-83af-d53ada378f13",
   "metadata": {},
   "source": [
    "Выберите также второй набор, с которым в дальнейшем будете выполнять манипуляции самостоятельно. Выберите интресный вариант."
   ]
  },
  {
   "cell_type": "code",
   "execution_count": null,
   "id": "f91505ce-3d60-4401-8828-cf738b566828",
   "metadata": {},
   "outputs": [],
   "source": [
    "# Ваш код\n",
    "..."
   ]
  },
  {
   "cell_type": "code",
   "execution_count": null,
   "id": "d2470ab4-9427-45d5-a6ae-6ed68582435c",
   "metadata": {},
   "outputs": [],
   "source": [
    "plt.plot(train)\n",
    "plt.plot(test)"
   ]
  },
  {
   "cell_type": "markdown",
   "id": "6f33087d-d180-496b-9682-00d30416b10d",
   "metadata": {},
   "source": [
    "## Сглаживание"
   ]
  },
  {
   "cell_type": "code",
   "execution_count": null,
   "id": "1682cf39-a6bb-4a40-ab80-1f6315d8458a",
   "metadata": {},
   "outputs": [],
   "source": [
    "train.rolling(window=7).mean().plot()"
   ]
  },
  {
   "cell_type": "code",
   "execution_count": null,
   "id": "a373590d-0936-4ec1-a24d-e25d06e7e9fb",
   "metadata": {},
   "outputs": [],
   "source": [
    "plt.figure(figsize=(12,5))\n",
    "plt.plot(train)\n",
    "plt.plot(train.rolling(window=7).mean())\n",
    "plt.plot(train.rolling(window=30).mean())"
   ]
  },
  {
   "cell_type": "code",
   "execution_count": null,
   "id": "ed91b34d-bae2-4be8-8185-a4d7234ff5f4",
   "metadata": {},
   "outputs": [],
   "source": [
    "train.rolling(window=30).mean().plot()"
   ]
  },
  {
   "cell_type": "code",
   "execution_count": null,
   "id": "cb165bfe-ae15-4263-a8fd-940568849405",
   "metadata": {},
   "outputs": [],
   "source": [
    "train.rolling(window=365).mean().plot()"
   ]
  },
  {
   "cell_type": "markdown",
   "id": "1df5ef76-e62b-4118-9c21-cefcadf00376",
   "metadata": {},
   "source": [
    "## Сезонность"
   ]
  },
  {
   "cell_type": "code",
   "execution_count": null,
   "id": "6f27f03b-b54c-410e-bb36-12dd581ac2c2",
   "metadata": {},
   "outputs": [],
   "source": [
    "from statsmodels.tsa.seasonal import seasonal_decompose"
   ]
  },
  {
   "cell_type": "code",
   "execution_count": null,
   "id": "a9679710-c30b-4e27-9960-5152598ccf87",
   "metadata": {},
   "outputs": [],
   "source": [
    "seasonal_decompose(train, model = 'additive', period = 365).plot()\n",
    "plt.show()"
   ]
  },
  {
   "cell_type": "code",
   "execution_count": null,
   "id": "32db2e86-e45c-428f-bacc-70e46bad8bb0",
   "metadata": {},
   "outputs": [],
   "source": []
  },
  {
   "cell_type": "markdown",
   "id": "559df223-1fa4-48a5-98ba-7e603a87895e",
   "metadata": {},
   "source": [
    "## Лаги"
   ]
  },
  {
   "cell_type": "code",
   "execution_count": null,
   "id": "d9fa4f27-3a0a-4759-b2ad-b4aacee40cff",
   "metadata": {},
   "outputs": [],
   "source": [
    "train.head()"
   ]
  },
  {
   "cell_type": "code",
   "execution_count": null,
   "id": "d61bedee-7b70-4896-b787-bff5bd6b7444",
   "metadata": {},
   "outputs": [],
   "source": [
    "train.shift(1).head()"
   ]
  },
  {
   "cell_type": "code",
   "execution_count": null,
   "id": "9eb3634e-590a-4b26-beef-65b29114d479",
   "metadata": {},
   "outputs": [],
   "source": [
    "train.shift(-1).head()"
   ]
  },
  {
   "cell_type": "code",
   "execution_count": null,
   "id": "4e6276b7-bf0e-4a51-b449-53cb064fecf3",
   "metadata": {},
   "outputs": [],
   "source": [
    "for i in range(1,7):\n",
    "    string = f'lag{i}'\n",
    "    train[string] = train['number_sold'].shift(i)\n",
    "train.head(10)"
   ]
  },
  {
   "cell_type": "code",
   "execution_count": null,
   "id": "77bc5c37-8247-4bc6-b042-1f54ba28eb97",
   "metadata": {},
   "outputs": [],
   "source": [
    "sns.heatmap(train.corr(), annot=True)"
   ]
  },
  {
   "cell_type": "code",
   "execution_count": null,
   "id": "3d1a3944-25d0-44b0-8ea7-ee540e425883",
   "metadata": {},
   "outputs": [],
   "source": [
    "train.drop(list(train.columns[1:]), axis = 1, inplace = True)"
   ]
  },
  {
   "cell_type": "code",
   "execution_count": null,
   "id": "ef476196-f7c9-441b-beb3-99378fc2e4c0",
   "metadata": {},
   "outputs": [],
   "source": [
    "train['lag1'] = train['number_sold'].shift(1, axis = 0)\n",
    "train['lag7'] = train['number_sold'].shift(7, axis = 0)\n",
    "train['lag30'] = train['number_sold'].shift(30, axis = 0)\n",
    "train['lag365'] = train['number_sold'].shift(365, axis = 0)\n",
    "\n",
    "sns.heatmap(train.corr(), annot = True)"
   ]
  },
  {
   "cell_type": "code",
   "execution_count": null,
   "id": "890a7e7c-3cff-46c5-b2f7-b1801cabefc3",
   "metadata": {},
   "outputs": [],
   "source": [
    "train.drop(list(train.columns[1:]), axis = 1, inplace = True)"
   ]
  },
  {
   "cell_type": "code",
   "execution_count": null,
   "id": "d5279262-bf07-4f2b-8f5e-309a9f0bdf52",
   "metadata": {},
   "outputs": [],
   "source": []
  },
  {
   "cell_type": "code",
   "execution_count": null,
   "id": "7515de67-b31d-4bf0-accb-70ab75a4c430",
   "metadata": {},
   "outputs": [],
   "source": [
    "from statsmodels.graphics.tsaplots import plot_acf, plot_pacf"
   ]
  },
  {
   "cell_type": "code",
   "execution_count": null,
   "id": "83945b11-cda8-4a8e-87a7-9faf0af07ae3",
   "metadata": {},
   "outputs": [],
   "source": [
    "plot_acf(train, lags = 30)\n",
    "plt.grid(True)\n",
    "plt.show()"
   ]
  },
  {
   "cell_type": "code",
   "execution_count": null,
   "id": "6d8612ca-bf74-4090-8e8d-237fc2856d86",
   "metadata": {},
   "outputs": [],
   "source": [
    "plot_pacf(train)\n",
    "plt.xticks(range(0,40,7))\n",
    "plt.grid(True)\n",
    "plt.show()"
   ]
  },
  {
   "cell_type": "code",
   "execution_count": null,
   "id": "c4ce4615-4f35-4ac9-9dd4-1b4ed0b5bf7a",
   "metadata": {},
   "outputs": [],
   "source": [
    "plot_acf(train, lags = 365)\n",
    "plt.xticks(range(0,366, 28))\n",
    "\n",
    "plt.grid(True)\n",
    "plt.show()"
   ]
  },
  {
   "cell_type": "markdown",
   "id": "6c7e885e-a426-4aa3-9572-22961a281671",
   "metadata": {},
   "source": [
    "## Прогнозирование"
   ]
  },
  {
   "cell_type": "code",
   "execution_count": null,
   "id": "c84b4d40-805a-4326-8171-130e308976af",
   "metadata": {},
   "outputs": [],
   "source": [
    "# !pip install skforecast"
   ]
  },
  {
   "cell_type": "code",
   "execution_count": null,
   "id": "34035efe-cb39-40a8-830b-78f5e927cb1f",
   "metadata": {},
   "outputs": [],
   "source": [
    "from skforecast.recursive import ForecasterRecursive\n",
    "from skforecast.model_selection import grid_search_forecaster\n",
    "from skforecast.model_selection import backtesting_forecaster\n",
    "\n",
    "from sklearn.linear_model import LinearRegression"
   ]
  },
  {
   "cell_type": "code",
   "execution_count": null,
   "id": "c12f1db9-6ad3-4ee3-9a57-2610deb7bc79",
   "metadata": {},
   "outputs": [],
   "source": [
    "train.asfreq('D')"
   ]
  },
  {
   "cell_type": "code",
   "execution_count": null,
   "id": "ca49a32b-9656-4d9b-b219-71df206979e4",
   "metadata": {},
   "outputs": [],
   "source": [
    "forecaster = ForecasterRecursive(\n",
    "    regressor = LinearRegression(),\n",
    "    lags = 365)\n",
    "\n",
    "forecaster.fit(train['number_sold'])\n",
    "forecaster"
   ]
  },
  {
   "cell_type": "code",
   "execution_count": null,
   "id": "f6395869-5009-4131-84a0-390ece818262",
   "metadata": {},
   "outputs": [],
   "source": [
    "steps = len(test)\n",
    "\n",
    "y_pred = forecaster.predict(steps = steps)\n",
    "y_pred.head()"
   ]
  },
  {
   "cell_type": "code",
   "execution_count": null,
   "id": "f80f4be9-359c-4cbd-a3d1-693baae1bc5a",
   "metadata": {},
   "outputs": [],
   "source": [
    "y_pred.index=test.index"
   ]
  },
  {
   "cell_type": "code",
   "execution_count": null,
   "id": "b0664234-8093-4451-870d-0f995a823d0d",
   "metadata": {},
   "outputs": [],
   "source": [
    "plt.plot(train)\n",
    "plt.plot(test)\n",
    "plt.plot(y_pred)"
   ]
  },
  {
   "cell_type": "code",
   "execution_count": null,
   "id": "94eb5c61-8752-436d-b8a8-761238a2193b",
   "metadata": {},
   "outputs": [],
   "source": []
  }
 ],
 "metadata": {
  "kernelspec": {
   "display_name": "Python [conda env:base] *",
   "language": "python",
   "name": "conda-base-py"
  },
  "language_info": {
   "codemirror_mode": {
    "name": "ipython",
    "version": 3
   },
   "file_extension": ".py",
   "mimetype": "text/x-python",
   "name": "python",
   "nbconvert_exporter": "python",
   "pygments_lexer": "ipython3",
   "version": "3.9.18"
  }
 },
 "nbformat": 4,
 "nbformat_minor": 5
}
