{
 "cells": [
  {
   "cell_type": "markdown",
   "id": "9db7e2ab-862c-4b1d-8faf-8f39b13f4a72",
   "metadata": {},
   "source": [
    "# Работа по теме \"Временные ряды\""
   ]
  },
  {
   "cell_type": "markdown",
   "id": "ac2480a7-5ddd-4dc7-bbbf-0dedb517267e",
   "metadata": {},
   "source": [
    "## Описание\n",
    "\n",
    "Работа предполагает самостоятельное исследование данных и построение моделей прогнозирования временных рядов.\n",
    "\n",
    "Основная задача работы - научиться работать с временными рядами, прогнозировать их.\n",
    "\n",
    "Предлагается один набор данных.\n",
    "\n",
    "Примерные критерии оценки:\n",
    "- представленные данные изучены и описаны;\n",
    "- данные предобработаны при необходимости, разделены на выборки;\n",
    "- показано исследование данных на предмет автокорреляций, оптимальных лагов;\n",
    "- рассмотрено не менее двух моделей прогнозирования;\n",
    "- рассмотрены различные метрики для оценки, при описании результатов метрики верно интерпретированы.\n",
    "\n",
    "В результате необходимо получить наилучшую модель прогнозирования временных рядов, при этом основную метрику разрешается выбрать самостоятельно, объяснив свой выбор. Также должен быть показан весь процесс исследования данных и настройки моделей."
   ]
  },
  {
   "cell_type": "markdown",
   "id": "d452e365-08f6-4dfe-9f78-a92c89a7a251",
   "metadata": {},
   "source": [
    "## Импорт библиотек"
   ]
  },
  {
   "cell_type": "code",
   "execution_count": null,
   "id": "04c3aae8-2c37-489e-87e8-31deefc01e5a",
   "metadata": {},
   "outputs": [],
   "source": []
  },
  {
   "cell_type": "markdown",
   "id": "9de1368e-c201-4d6f-b3b4-1fb2c9eb6f1a",
   "metadata": {},
   "source": [
    "# Температурные изменения\n",
    "\n",
    "Набор данных `MLTempDataset.csv` содержит показания комнатной температуры в зависимости от времени.\n",
    "\n",
    "Требуется построить модель, позволяющую прогнозировать температуру."
   ]
  },
  {
   "cell_type": "code",
   "execution_count": null,
   "id": "d1d503a9-f3b1-4ba7-8589-cadc63a9d58b",
   "metadata": {},
   "outputs": [],
   "source": []
  },
  {
   "cell_type": "markdown",
   "id": "4395fab8-a7f6-450f-ba5d-58db4eb12ae8",
   "metadata": {},
   "source": [
    "# Выводы\n",
    "\n",
    "Ключевые выводы по задачам."
   ]
  },
  {
   "cell_type": "code",
   "execution_count": null,
   "id": "fac01ab8-6d71-4a1b-840b-a7b6155d0535",
   "metadata": {},
   "outputs": [],
   "source": []
  }
 ],
 "metadata": {
  "kernelspec": {
   "display_name": "Python [conda env:base] *",
   "language": "python",
   "name": "conda-base-py"
  },
  "language_info": {
   "codemirror_mode": {
    "name": "ipython",
    "version": 3
   },
   "file_extension": ".py",
   "mimetype": "text/x-python",
   "name": "python",
   "nbconvert_exporter": "python",
   "pygments_lexer": "ipython3",
   "version": "3.9.18"
  }
 },
 "nbformat": 4,
 "nbformat_minor": 5
}
