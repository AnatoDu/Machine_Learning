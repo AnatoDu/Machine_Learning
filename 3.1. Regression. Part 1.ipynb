{
 "cells": [
  {
   "cell_type": "markdown",
   "id": "5915acd0-9f4c-40b5-91f9-859a787574f0",
   "metadata": {},
   "source": [
    "# Regression. Part 1\n",
    "---\n",
    "Author: Anatoliy Durkin\n",
    "\n",
    "Updated: 24.03.2025\n",
    "\n",
    "---\n",
    "В данном ноутбуке будут рассмотрены регрессионные модели, метрики численного прогнозирования и методы подготовки признаков."
   ]
  },
  {
   "cell_type": "code",
   "execution_count": null,
   "id": "bc085637-d675-4c70-baaf-18a8e2efbf37",
   "metadata": {},
   "outputs": [],
   "source": [
    "import pandas as pd\n",
    "import matplotlib.pyplot as plt\n",
    "import seaborn as sns\n",
    "from sklearn.model_selection import train_test_split"
   ]
  },
  {
   "cell_type": "markdown",
   "id": "8ffdcac0-3db6-464c-9d98-22d926dbea7e",
   "metadata": {},
   "source": [
    "# Линейная регрессия"
   ]
  },
  {
   "cell_type": "code",
   "execution_count": null,
   "id": "551112aa-4d68-4621-a1f4-e33842955d08",
   "metadata": {},
   "outputs": [],
   "source": [
    "df = pd.read_csv('linear_regression.csv')"
   ]
  },
  {
   "cell_type": "code",
   "execution_count": null,
   "id": "4511e753-ea48-4414-a9b6-50c2b17bc7c0",
   "metadata": {},
   "outputs": [],
   "source": [
    "df.head()"
   ]
  },
  {
   "cell_type": "code",
   "execution_count": null,
   "id": "4e493f23-8cfb-4151-a1de-f02838de84da",
   "metadata": {},
   "outputs": [],
   "source": [
    "df.info()"
   ]
  },
  {
   "cell_type": "code",
   "execution_count": null,
   "id": "58160a4b-b38e-41ae-8211-e06a4401c964",
   "metadata": {},
   "outputs": [],
   "source": [
    "X_train, X_test, y_train, y_test = train_test_split(df[['x']], df['y'], test_size=0.2, random_state=42)"
   ]
  },
  {
   "cell_type": "code",
   "execution_count": null,
   "id": "bc6c7620-b852-4c96-8bc0-1994a9193031",
   "metadata": {},
   "outputs": [],
   "source": [
    "df.plot.scatter(x='x', y='y', xlabel='x', ylabel='y', title='Data visualisation', grid=True)"
   ]
  },
  {
   "cell_type": "code",
   "execution_count": null,
   "id": "668748fd-38df-4a7e-b0b2-368a5de8cc6e",
   "metadata": {},
   "outputs": [],
   "source": [
    "from sklearn.linear_model import LinearRegression"
   ]
  },
  {
   "cell_type": "code",
   "execution_count": null,
   "id": "0f8e0fa2-dc25-4d95-bffb-89bec2eac83b",
   "metadata": {},
   "outputs": [],
   "source": [
    "reg = LinearRegression().fit(X_train, y_train)"
   ]
  },
  {
   "cell_type": "code",
   "execution_count": null,
   "id": "76ace335-7853-4c77-85ad-6732a1bdb675",
   "metadata": {},
   "outputs": [],
   "source": [
    "reg.coef_"
   ]
  },
  {
   "cell_type": "code",
   "execution_count": null,
   "id": "f0e5c439-ebd5-4e53-a638-48a3163ffe8b",
   "metadata": {},
   "outputs": [],
   "source": [
    "reg.intercept_"
   ]
  },
  {
   "cell_type": "code",
   "execution_count": null,
   "id": "f621a3d6-fd3e-479b-b20e-a8680b69e70a",
   "metadata": {},
   "outputs": [],
   "source": [
    "df.plot.scatter(x='x', y='y', xlabel='x', ylabel='y', title='Linear regression', grid=True)\n",
    "plt.plot([0, 100], [0*reg.coef_[0]+reg.intercept_, 100*reg.coef_[0]+reg.intercept_], color='red', linewidth=3)"
   ]
  },
  {
   "cell_type": "markdown",
   "id": "1af819fb-40f2-4c60-9478-09fe22c744f5",
   "metadata": {},
   "source": [
    "Линейная регрессия прекрасно ложится на наши данные. Посмотрим, какую оценку модели мы получаем."
   ]
  },
  {
   "cell_type": "code",
   "execution_count": null,
   "id": "3bf7f1a8-193f-4c76-b525-fc1f1462257c",
   "metadata": {},
   "outputs": [],
   "source": [
    "print('Train:', reg.score(X_train, y_train))\n",
    "print('Test:', reg.score(X_test, y_test))"
   ]
  },
  {
   "cell_type": "markdown",
   "id": "05e7a91c-dbbd-43e8-b660-111984f87a1e",
   "metadata": {},
   "source": [
    "Однако, что это за метрика? Чаще всего в процессе обучения модели используют квадрат ошибки в функциях потерь. Возможно, эта метрика нам и показана.\n",
    "\n",
    "MSE - mean squared error.\n",
    "\n",
    "$$MSE = \\frac{1}{N} \\sum_{i=1}^{N} (y_i-f(x_i))^2$$\n",
    "\n",
    "Из-за возведения в квадрат не очень понятно, как интерпретировать эту метрику, поэтому зачастую берут корень из этой метрики: RMSE - root mean squared error."
   ]
  },
  {
   "cell_type": "code",
   "execution_count": null,
   "id": "4d19adc4-bc21-480d-a05c-3ace349e0dfe",
   "metadata": {},
   "outputs": [],
   "source": [
    "from sklearn.metrics import mean_squared_error as MSE"
   ]
  },
  {
   "cell_type": "code",
   "execution_count": null,
   "id": "167b5581-283a-4ec3-92ef-9c43f460557a",
   "metadata": {},
   "outputs": [],
   "source": [
    "print('MSE:', MSE(reg.predict(X_test), y_test))\n",
    "print('RMSE:', MSE(reg.predict(X_test), y_test)**0.5)"
   ]
  },
  {
   "cell_type": "markdown",
   "id": "987c4d5d-4b38-4c9d-a43d-b8de7911aa57",
   "metadata": {},
   "source": [
    "Метрики не похожи по значению на полученные ранее.\n",
    "\n",
    "Поскольку MSE и RMSE никак не ограничены сверху, иногда их очень сложно интерпретировать и понимать, хорошее ли это значение. Поэтому придумана метрика, изменяющаяся от 0 до 1 - $R^2$ или коэффициент детерминации. Этот показатель отражает, какая доля вариативности зависимой переменной объясняется независимыми переменными в модели.\n",
    "\n",
    "$$R^2 = 1 - \\frac{\\sum_{i=1}^{N} (y_i-f(x_i))^2}{\\sum_{i=1}^{N} (y_i-\\bar y)^2}$$"
   ]
  },
  {
   "cell_type": "code",
   "execution_count": null,
   "id": "e95e3003-a2d4-400f-ac6f-b902001c73c3",
   "metadata": {},
   "outputs": [],
   "source": [
    "from sklearn.metrics import r2_score"
   ]
  },
  {
   "cell_type": "code",
   "execution_count": null,
   "id": "2126c77f-5f35-4e0b-999b-0b3565fe789c",
   "metadata": {},
   "outputs": [],
   "source": [
    "print('R2:', r2_score(reg.predict(X_test), y_test))"
   ]
  },
  {
   "cell_type": "markdown",
   "id": "7db41727-7bdc-4e68-8b85-0639cd1361c5",
   "metadata": {},
   "source": [
    "Теперь мы получили ту самую метрику. Чаще всего именно $R^2$ является очновной метрикой для регрессионных моделей. Чем ближе к единице, тем лучше. \n",
    "\n",
    "Хотя R-квадрат изменяется от 0 до 1, на практие можно столкнуться с тем, что эта метрика окажется отрицательной. Это свидельствует о том, что построенная модель предсказывает хуже, чем константная модель.\n",
    "\n",
    "Какие ещё метрики можно использовать при оценке модели?\n",
    "\n",
    "Самое простое посмотреть, на сколько мы ошибаемся в абсолютных значениях.\n",
    "\n",
    "MAE - mean absolute error. А когда мы говорим об относительных значениях, используем MAPE - mean absolute percentage error."
   ]
  },
  {
   "cell_type": "code",
   "execution_count": null,
   "id": "dfacc0da-a19f-4beb-b0cf-61a1e6cc1fcb",
   "metadata": {},
   "outputs": [],
   "source": [
    "from sklearn.metrics import mean_absolute_error as MAE, mean_absolute_percentage_error as MAPE"
   ]
  },
  {
   "cell_type": "code",
   "execution_count": null,
   "id": "a2f62f71-e67c-434f-b178-aa81c5733bff",
   "metadata": {},
   "outputs": [],
   "source": [
    "print('MAE:', MAE(reg.predict(X_test), y_test))\n",
    "print('MAPE:', MAPE(reg.predict(X_test), y_test))"
   ]
  },
  {
   "cell_type": "markdown",
   "id": "6923ce87-8638-4d2c-b246-51fdd0265d4b",
   "metadata": {},
   "source": [
    "Какие ещё метрики вы бы могли использовать?\n",
    "\n",
    "Например, доля предсказаний с абсолютными ошибками больше некоторого значения. Попробуйте посчитать такое значение."
   ]
  },
  {
   "cell_type": "code",
   "execution_count": null,
   "id": "73c21f0e-b723-4c0e-99a9-24fcf80c38f5",
   "metadata": {},
   "outputs": [],
   "source": [
    "# Ваш код\n",
    "..."
   ]
  },
  {
   "cell_type": "markdown",
   "id": "85df0bcd-6ae2-4a38-9cca-8c546be14d91",
   "metadata": {},
   "source": [
    "# Кодирование признаков"
   ]
  },
  {
   "cell_type": "code",
   "execution_count": null,
   "id": "85164d71-397e-4b5d-87d8-115adaf1e96e",
   "metadata": {},
   "outputs": [],
   "source": [
    "df = pd.read_csv('insurance.csv')"
   ]
  },
  {
   "cell_type": "code",
   "execution_count": null,
   "id": "2e448145-3280-45a2-818a-cf56ed3c3a52",
   "metadata": {},
   "outputs": [],
   "source": [
    "df.head()"
   ]
  },
  {
   "cell_type": "code",
   "execution_count": null,
   "id": "dd3e5a82-cd99-4fde-a3c8-b76e2bbb35d9",
   "metadata": {},
   "outputs": [],
   "source": [
    "df.info()"
   ]
  },
  {
   "cell_type": "code",
   "execution_count": null,
   "id": "f07a78dc-f016-4696-bf7a-62e6cb35c780",
   "metadata": {},
   "outputs": [],
   "source": [
    "sns.pairplot(df)"
   ]
  },
  {
   "cell_type": "code",
   "execution_count": null,
   "id": "fb4525e4-0a7e-497a-a8cd-a82706dddc2b",
   "metadata": {},
   "outputs": [],
   "source": [
    "sns.heatmap(df.corr(), cmap='bwr', center=0, annot=True)"
   ]
  },
  {
   "cell_type": "markdown",
   "id": "49abfc7f-158c-4002-afd2-aa83bc09d009",
   "metadata": {},
   "source": [
    "Что в данных помешает нам сразу же построить хоть какую-нибудь модель?\n",
    "\n",
    "Строковый тип данных. Модели в основном не умеют работать с текстом, есть те, что умеют обрабатывать категориальные данные, как в нашем случае, но для остальных моделей, как и для линейной регрессии, данные должны быть численными.\n",
    "\n",
    "У нас есть три столбца для обработки: `sex`, `smoker`, `region`. Проще всего начать со столбца `smoker`. Что представляют собой данные? Как их можно записать в числах?"
   ]
  },
  {
   "cell_type": "code",
   "execution_count": null,
   "id": "1e203042-cf31-447d-9b51-43446a22f09d",
   "metadata": {},
   "outputs": [],
   "source": [
    "df['smoker'].unique()"
   ]
  },
  {
   "cell_type": "markdown",
   "id": "e3ead7f9-631e-4237-a98e-4a720380000d",
   "metadata": {},
   "source": [
    "По сути, это бинарный признак, принимающий два значения - \"да\" и \"нет\", которые также можно записать `True` и `False`, булево значение. А значит данные этого столбца можно смело заменить на нули и единицы."
   ]
  },
  {
   "cell_type": "code",
   "execution_count": null,
   "id": "d7f40899-85fe-4036-ba94-9fa8580ba943",
   "metadata": {},
   "outputs": [],
   "source": [
    "df['smoker'] = df['smoker'].apply(lambda x: 0 if x=='no' else 1)"
   ]
  },
  {
   "cell_type": "code",
   "execution_count": null,
   "id": "5274a562-82e7-42bd-bd9e-34a92c31ca41",
   "metadata": {},
   "outputs": [],
   "source": [
    "df['smoker'].unique()"
   ]
  },
  {
   "cell_type": "markdown",
   "id": "96c72cb3-4b58-4768-85a8-b5d55a32e8b9",
   "metadata": {},
   "source": [
    "Перейдём к столбцу `sex`, какие тут уникальные значения?"
   ]
  },
  {
   "cell_type": "code",
   "execution_count": null,
   "id": "b9c68094-0357-47aa-8014-7c3cec72a563",
   "metadata": {},
   "outputs": [],
   "source": [
    "# Ваш код\n",
    "..."
   ]
  },
  {
   "cell_type": "markdown",
   "id": "e9f5f966-d953-4ecd-9ff0-013b54c68497",
   "metadata": {},
   "source": [
    "Всего два категориальных значения, но они не представимы сразу булевым типом. Что с ними можно сделать?\n",
    "\n",
    "Да, их можно просто занумеровать нулями и единицами (главное запомнить, что есть что). Сделайте это."
   ]
  },
  {
   "cell_type": "code",
   "execution_count": null,
   "id": "f97fbbe8-f699-403c-8f10-5d1b56e97cd9",
   "metadata": {},
   "outputs": [],
   "source": [
    "# Ваш код\n",
    "..."
   ]
  },
  {
   "cell_type": "markdown",
   "id": "4902ac8e-0caa-44b0-bcb3-0194879a6645",
   "metadata": {},
   "source": [
    "И вот мы добрались до третьего столбца, `region`, какие значения встречаются в нем?"
   ]
  },
  {
   "cell_type": "code",
   "execution_count": null,
   "id": "bcf487c4-c288-48e2-b31d-5e557f39f7e6",
   "metadata": {},
   "outputs": [],
   "source": [
    "# Ваш код\n",
    "..."
   ]
  },
  {
   "cell_type": "markdown",
   "id": "65431348-22f6-45ab-935c-b8aa63d42a01",
   "metadata": {},
   "source": [
    "Теперь поговорим о двух методах превращения категориальных столбцов в численные - прямое кодирование и порядковое кодирование.\n",
    "\n",
    "Техника прямого кодирования, или отображения (англ. One-Hot Encoding, OHE). Принцип действия:\n",
    "- Для каждого значения признака создаётся новый столбец.\n",
    "- Если объекту категория подходит, присваивается 1, если нет — 0.\n",
    "\n",
    "для прямого кодирования в библиотеке `pandas` есть функция `get_dummies()`."
   ]
  },
  {
   "cell_type": "code",
   "execution_count": null,
   "id": "bc067a4d-6bf9-45c5-a53e-e8633b929916",
   "metadata": {},
   "outputs": [],
   "source": [
    "pd.get_dummies(df['region']).head()"
   ]
  },
  {
   "cell_type": "markdown",
   "id": "b38a82dc-74e7-4f66-a33b-33d92401dd77",
   "metadata": {},
   "source": [
    "Когда данных много, можно угодить в ловушку фиктивных признаков, это не очень хорошо для моделей. Также она называется дамми-ловушка (англ. dummy trap, «ловушка фиктивных признаков»).\n",
    "\n",
    "Посмотрите на полученные сверху четыре столбца. Один из них можно смело удалять, ведь его легко восстановить из оставшихся, он избыточен. Для этого у функции `get_dummies()` есть аргумент `drop_first`. Если указать `True`, то первый из столбцов будет удалён."
   ]
  },
  {
   "cell_type": "code",
   "execution_count": null,
   "id": "539c7a5f-59ac-406c-8a8a-cd2c7c4c08dd",
   "metadata": {},
   "outputs": [],
   "source": [
    "pd.get_dummies(df['region'], drop_first=True).head()"
   ]
  },
  {
   "cell_type": "markdown",
   "id": "fec13300-dce1-4d79-b318-349968218587",
   "metadata": {},
   "source": [
    "Обратите внимание, в целом это очень похоже на то, что мы сделали с двумя другими столбцами. Если их обработать техникой прямого кодирования и удалить один из столбцов, получится то же самое. Собственно, функция `get_dummies()` умеет сама определять категориальные переменные и обрабатывать их. Попробуйте передать в функцию весь датасет и посмотрите, как обработаются интересующие нас столбцы."
   ]
  },
  {
   "cell_type": "code",
   "execution_count": null,
   "id": "5c8e1804-d305-40ba-9aa1-8dc5953fce27",
   "metadata": {},
   "outputs": [],
   "source": [
    "df = pd.read_csv('insurance.csv')"
   ]
  },
  {
   "cell_type": "code",
   "execution_count": null,
   "id": "d578374b-5f4b-475f-a729-31903f36436d",
   "metadata": {},
   "outputs": [],
   "source": [
    "# Ваш код\n",
    "..."
   ]
  },
  {
   "cell_type": "markdown",
   "id": "ae806ed9-b463-485e-bd7c-337c5807cdba",
   "metadata": {},
   "source": [
    "Второй подход - техника порядкового кодирования. Она подходит для порядковых категориальных признаков.\n",
    "\n",
    "Есть функция. позволяющая закодировать цифрами выраженные в тексте категории —  Ordinal Encoding (от англ. «кодирование по номеру категории»). Она работает так:\n",
    "- Фиксируется, какой цифрой кодируется класс.\n",
    "- Цифры размещаются в столбце."
   ]
  },
  {
   "cell_type": "code",
   "execution_count": null,
   "id": "c7213a92-39e2-41a6-a641-e3fe48dca468",
   "metadata": {},
   "outputs": [],
   "source": [
    "from sklearn.preprocessing import OrdinalEncoder"
   ]
  },
  {
   "cell_type": "code",
   "execution_count": null,
   "id": "55eb3f59-2a2f-4b8f-b99e-bcdfb9718087",
   "metadata": {},
   "outputs": [],
   "source": [
    "df = pd.read_csv('insurance.csv')"
   ]
  },
  {
   "cell_type": "code",
   "execution_count": null,
   "id": "e70fbd59-bc0f-444f-8af6-758ba8932947",
   "metadata": {},
   "outputs": [],
   "source": [
    "encoder = OrdinalEncoder()\n",
    "data_ordinal = pd.DataFrame(encoder.fit_transform(df), columns=df.columns)"
   ]
  },
  {
   "cell_type": "code",
   "execution_count": null,
   "id": "f76485f6-3f7c-4fcf-8259-1c5a23f7477e",
   "metadata": {},
   "outputs": [],
   "source": [
    "data_ordinal.head()"
   ]
  },
  {
   "cell_type": "markdown",
   "id": "ad669fcd-0848-40b2-aa87-c1bd7fbb5b79",
   "metadata": {},
   "source": [
    "Как выбрать одну из техникам кодирования категориальных переменных?\n",
    "- Если все признаки должны стать количественными, подходит техника OHE.\n",
    "- Когда все признаки категориальные, и их нужно преобразовать в числа — Ordinal Encoding.\n",
    "\n",
    "Определитесь с наилучшей техникой для имеющихся данных и одготовьте набор данных для дальнейшей работы. Посмотрите также на парные распределения у получившихся столбцов и матрицу кореляций."
   ]
  },
  {
   "cell_type": "code",
   "execution_count": null,
   "id": "d0e00de4-9cb6-4892-80e0-df7d357aab68",
   "metadata": {},
   "outputs": [],
   "source": [
    "df = pd.read_csv('insurance.csv')"
   ]
  },
  {
   "cell_type": "code",
   "execution_count": null,
   "id": "26148e55-7380-4429-b402-2931df702427",
   "metadata": {},
   "outputs": [],
   "source": [
    "# Ваш код\n",
    "..."
   ]
  },
  {
   "cell_type": "markdown",
   "id": "3c817d96-5e35-4b8b-9b11-8582fa0f3505",
   "metadata": {},
   "source": [
    "# Множественная линейная регрессия\n",
    "\n",
    "Линейная регрессия может строиться и на нескольких признаках, тогда получается некая прямая в многомерном пространстве, которую далеко не всегда можно визуализировать.\n",
    "\n",
    "Разделите подготовленные данные на `features` и `target` и постройте модель `LinearRegression`."
   ]
  },
  {
   "cell_type": "code",
   "execution_count": null,
   "id": "14528505-7aff-42f0-a58e-f3f600c47fcc",
   "metadata": {},
   "outputs": [],
   "source": [
    "# Ваш код\n",
    "..."
   ]
  },
  {
   "cell_type": "code",
   "execution_count": null,
   "id": "e3c1db1a-9b3a-4834-b573-fc33ddf213e1",
   "metadata": {},
   "outputs": [],
   "source": [
    "reg.score(features, target)"
   ]
  },
  {
   "cell_type": "code",
   "execution_count": null,
   "id": "d8082ce6-1433-40d0-86ae-82131fe6d81e",
   "metadata": {},
   "outputs": [],
   "source": [
    "reg.coef_"
   ]
  },
  {
   "cell_type": "code",
   "execution_count": null,
   "id": "05a45361-7d80-41b4-b6ca-a00f2d11b7dd",
   "metadata": {},
   "outputs": [],
   "source": [
    "reg.intercept_"
   ]
  },
  {
   "cell_type": "markdown",
   "id": "3ce04b10-9109-4dbc-b074-6456e2f76146",
   "metadata": {},
   "source": [
    "Для того, чтобы увидеть больше разнообразных метрик, позволяющих оценить качество модели и подбирать набор признаков, используем аналогичную модель из другой библиотеки."
   ]
  },
  {
   "cell_type": "code",
   "execution_count": null,
   "id": "39e13303-61c5-4ed6-8b50-5413ad0dec4b",
   "metadata": {},
   "outputs": [],
   "source": [
    "import statsmodels.api as sm"
   ]
  },
  {
   "cell_type": "markdown",
   "id": "bb7f12f7-9c7d-492e-a7dd-9e23103507b3",
   "metadata": {},
   "source": [
    "В данном случае свободную переменную необходимо добавлять вручную, также можно не делать этого и строить регрессию без свободной переменной."
   ]
  },
  {
   "cell_type": "code",
   "execution_count": null,
   "id": "e40864d1-672d-438d-96fc-f9eee5b36114",
   "metadata": {},
   "outputs": [],
   "source": [
    "features = sm.add_constant(features)"
   ]
  },
  {
   "cell_type": "code",
   "execution_count": null,
   "id": "eb4d6c4d-fce0-48e2-a181-f125e8f101d5",
   "metadata": {},
   "outputs": [],
   "source": [
    "model = sm.OLS(target, features)"
   ]
  },
  {
   "cell_type": "code",
   "execution_count": null,
   "id": "911fab97-81e5-4250-8ad8-fc9cae032acf",
   "metadata": {},
   "outputs": [],
   "source": [
    "results = model.fit()"
   ]
  },
  {
   "cell_type": "code",
   "execution_count": null,
   "id": "a405a145-be7f-4f44-92a6-6b3b10fcb105",
   "metadata": {},
   "outputs": [],
   "source": [
    "results.params"
   ]
  },
  {
   "cell_type": "markdown",
   "id": "87cc1e3a-da3f-4589-88ef-b5dcaa4361d9",
   "metadata": {},
   "source": [
    "Сравните коэффициенты двух моделей.\n",
    "\n",
    "Но самым главным плюсом использования данной библиотеки является метод `summaries()`, представляющий подробную сводку об оценке модели."
   ]
  },
  {
   "cell_type": "code",
   "execution_count": null,
   "id": "5b86c57f-28a7-45a8-9fbb-726e8a6dbd23",
   "metadata": {},
   "outputs": [],
   "source": [
    "results.summary()"
   ]
  },
  {
   "cell_type": "markdown",
   "id": "8e66303c-4df2-4a56-abab-7e64458af5dc",
   "metadata": {},
   "source": [
    "Вывод достаточно объёмный и состоит из трех частей.\n",
    "\n",
    "- В первой представлены основные оценки модели, где присутсвует в том числе разобранный выше $R^2$.\n",
    "- Во второй части дана информация по коэффициентам.\n",
    "- Третья часть представляет анализ остатков.\n",
    "\n",
    "Подробное описание можно прочитать [в статье](https://habr.com/ru/articles/681218/).\n",
    "\n",
    "Нас сейчас интересует вторая часть, так как она позволяет производить отбор признаков.\n",
    "\n",
    "В этой таблице присутствуют сами подобранные коэффициенты; дисперсия коэффициента `std err`; t-критерий Стьюдента; p-value, позволяющее принимать и отвергать гипотезы о значимости коэффициентов; доверительные интервалы коэффициентов.\n",
    "\n",
    "Как раз по p-value можно смотреть, важен ли тот или иной признак для модели. Если p-value меньше 0.05 (или 0.01, два классических значения для оценки), то гипотеза о значимости принимается. В ином случае нулевая гипотеза отвергается, признак можно считать неважным. Значит, его можно удалять.\n",
    "\n",
    "Важно! Если по таблице гипотеза отвергается сразу для нескольких признаков, не стоит удалять их все сразу - после удаления одного p-value для других могут значительно измениться. Поэтому убираем признаки по одному, начиная с самого большого p-value. Останавливаемся, когда p-value всех признаков будет укладываться в заданые рамки.\n",
    "\n",
    "Попробуйте удалять признаки и заново строить регрессию. Станут ли лучше метрики?"
   ]
  },
  {
   "cell_type": "code",
   "execution_count": null,
   "id": "748d75ce-a775-482c-9767-b6343276840c",
   "metadata": {},
   "outputs": [],
   "source": [
    "# Ваш код\n",
    "..."
   ]
  },
  {
   "cell_type": "code",
   "execution_count": null,
   "id": "47b103c6-778f-47ba-8c10-2119fe186153",
   "metadata": {},
   "outputs": [],
   "source": []
  }
 ],
 "metadata": {
  "kernelspec": {
   "display_name": "Python [conda env:base] *",
   "language": "python",
   "name": "conda-base-py"
  },
  "language_info": {
   "codemirror_mode": {
    "name": "ipython",
    "version": 3
   },
   "file_extension": ".py",
   "mimetype": "text/x-python",
   "name": "python",
   "nbconvert_exporter": "python",
   "pygments_lexer": "ipython3",
   "version": "3.9.18"
  }
 },
 "nbformat": 4,
 "nbformat_minor": 5
}
